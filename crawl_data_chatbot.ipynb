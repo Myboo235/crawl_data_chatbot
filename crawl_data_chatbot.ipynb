{
  "cells": [
    {
      "cell_type": "markdown",
      "metadata": {
        "id": "YbU7NJlt4ry9"
      },
      "source": [
        "### Get data for training BERT"
      ]
    },
    {
      "cell_type": "code",
      "execution_count": null,
      "metadata": {
        "colab": {
          "base_uri": "https://localhost:8080/"
        },
        "id": "nQqLFFNPbP2t",
        "outputId": "34e86cb1-fa38-4090-9b8a-bab5ff3aa1a2"
      },
      "outputs": [
        {
          "output_type": "stream",
          "name": "stdout",
          "text": [
            "Choose version dataset of SQuAD : v2\n",
            "-> set train,dev is v2\n"
          ]
        }
      ],
      "source": [
        "data_ver = input(\"Choose version dataset of SQuAD : \")\n",
        "print(f\"-> set train,dev is {data_ver}\")\n",
        "if(data_ver == \"v1\"):\n",
        "    test_url,train_url =  \\\n",
        "    \"https://raw.githubusercontent.com/Purushothaman-natarajan/Q-and-A-chat-bot-from-PDF/main/SQuAD%20%20train%20data%20set/dev-v1.1.json\",\\\n",
        "    \"https://raw.githubusercontent.com/Purushothaman-natarajan/Q-and-A-chat-bot-from-PDF/main/SQuAD%20%20train%20data%20set/train-v1.1.json\"\n",
        "else:\n",
        "    test_url,train_url =  \\\n",
        "    \"https://rajpurkar.github.io/SQuAD-explorer/dataset/dev-v2.0.json\",\\\n",
        "    \"https://rajpurkar.github.io/SQuAD-explorer/dataset/train-v2.0.json\",\n"
      ]
    },
    {
      "cell_type": "code",
      "execution_count": null,
      "metadata": {
        "id": "j-oUAwUbHN9v"
      },
      "outputs": [],
      "source": [
        "import requests\n",
        "import json\n",
        "\n",
        "r = requests.get(train_url)\n",
        "train_data = r.json()\n",
        "r = requests.get(test_url)\n",
        "test_data = r.json()\n",
        "\n",
        "with open(\"/content/train-v1.1.json\", \"w\") as file:\n",
        "    json.dump(train_data, file)\n",
        "with open(\"/content/dev-v1.1.json\", \"w\") as file:\n",
        "    json.dump(test_data, file)"
      ]
    },
    {
      "cell_type": "markdown",
      "metadata": {
        "id": "3hEX5J2344UL"
      },
      "source": [
        "### Set up dependencies"
      ]
    },
    {
      "cell_type": "code",
      "execution_count": null,
      "metadata": {
        "colab": {
          "base_uri": "https://localhost:8080/"
        },
        "id": "xjWX0COCAydw",
        "outputId": "0216c8d4-51d4-418d-9192-edba9d18baf5"
      },
      "outputs": [
        {
          "output_type": "stream",
          "name": "stdout",
          "text": [
            "\u001b[?25l     \u001b[90m━━━━━━━━━━━━━━━━━━━━━━━━━━━━━━━━━━━━━━━━\u001b[0m \u001b[32m0.0/622.8 kB\u001b[0m \u001b[31m?\u001b[0m eta \u001b[36m-:--:--\u001b[0m\r\u001b[2K     \u001b[91m━━━━━━━━━━━━━━\u001b[0m\u001b[90m╺\u001b[0m\u001b[90m━━━━━━━━━━━━━━━━━━━━━━━━━\u001b[0m \u001b[32m225.3/622.8 kB\u001b[0m \u001b[31m6.5 MB/s\u001b[0m eta \u001b[36m0:00:01\u001b[0m\r\u001b[2K     \u001b[91m━━━━━━━━━━━━━━━━━━━━━━━━━━━━━━━━━━━━━━━\u001b[0m\u001b[90m╺\u001b[0m \u001b[32m614.4/622.8 kB\u001b[0m \u001b[31m9.9 MB/s\u001b[0m eta \u001b[36m0:00:01\u001b[0m\r\u001b[2K     \u001b[90m━━━━━━━━━━━━━━━━━━━━━━━━━━━━━━━━━━━━━━━━\u001b[0m \u001b[32m622.8/622.8 kB\u001b[0m \u001b[31m8.5 MB/s\u001b[0m eta \u001b[36m0:00:00\u001b[0m\n",
            "\u001b[?25h  Preparing metadata (setup.py) ... \u001b[?25l\u001b[?25hdone\n",
            "  Building wheel for autocorrect (setup.py) ... \u001b[?25l\u001b[?25hdone\n",
            "\u001b[2K     \u001b[90m━━━━━━━━━━━━━━━━━━━━━━━━━━━━━━━━━━━━━━━━\u001b[0m \u001b[32m12.3/12.3 MB\u001b[0m \u001b[31m35.8 MB/s\u001b[0m eta \u001b[36m0:00:00\u001b[0m\n",
            "\u001b[2K     \u001b[90m━━━━━━━━━━━━━━━━━━━━━━━━━━━━━━━━━━━━━━━━\u001b[0m \u001b[32m92.0/92.0 kB\u001b[0m \u001b[31m12.2 MB/s\u001b[0m eta \u001b[36m0:00:00\u001b[0m\n",
            "\u001b[?25h  Preparing metadata (setup.py) ... \u001b[?25l\u001b[?25hdone\n",
            "\u001b[2K     \u001b[90m━━━━━━━━━━━━━━━━━━━━━━━━━━━━━━━━━━━━━━━━\u001b[0m \u001b[32m314.6/314.6 kB\u001b[0m \u001b[31m36.1 MB/s\u001b[0m eta \u001b[36m0:00:00\u001b[0m\n",
            "\u001b[2K     \u001b[90m━━━━━━━━━━━━━━━━━━━━━━━━━━━━━━━━━━━━━━━━\u001b[0m \u001b[32m75.6/75.6 kB\u001b[0m \u001b[31m10.5 MB/s\u001b[0m eta \u001b[36m0:00:00\u001b[0m\n",
            "\u001b[2K     \u001b[90m━━━━━━━━━━━━━━━━━━━━━━━━━━━━━━━━━━━━━━━━\u001b[0m \u001b[32m142.5/142.5 kB\u001b[0m \u001b[31m20.4 MB/s\u001b[0m eta \u001b[36m0:00:00\u001b[0m\n",
            "\u001b[2K     \u001b[90m━━━━━━━━━━━━━━━━━━━━━━━━━━━━━━━━━━━━━━━━\u001b[0m \u001b[32m8.7/8.7 MB\u001b[0m \u001b[31m57.1 MB/s\u001b[0m eta \u001b[36m0:00:00\u001b[0m\n",
            "\u001b[2K     \u001b[90m━━━━━━━━━━━━━━━━━━━━━━━━━━━━━━━━━━━━━━━━\u001b[0m \u001b[32m47.2/47.2 kB\u001b[0m \u001b[31m6.0 MB/s\u001b[0m eta \u001b[36m0:00:00\u001b[0m\n",
            "\u001b[2K     \u001b[90m━━━━━━━━━━━━━━━━━━━━━━━━━━━━━━━━━━━━━━━━\u001b[0m \u001b[32m60.8/60.8 kB\u001b[0m \u001b[31m8.3 MB/s\u001b[0m eta \u001b[36m0:00:00\u001b[0m\n",
            "\u001b[2K     \u001b[90m━━━━━━━━━━━━━━━━━━━━━━━━━━━━━━━━━━━━━━━━\u001b[0m \u001b[32m129.9/129.9 kB\u001b[0m \u001b[31m18.5 MB/s\u001b[0m eta \u001b[36m0:00:00\u001b[0m\n",
            "\u001b[2K     \u001b[90m━━━━━━━━━━━━━━━━━━━━━━━━━━━━━━━━━━━━━━━━\u001b[0m \u001b[32m77.9/77.9 kB\u001b[0m \u001b[31m9.6 MB/s\u001b[0m eta \u001b[36m0:00:00\u001b[0m\n",
            "\u001b[2K     \u001b[90m━━━━━━━━━━━━━━━━━━━━━━━━━━━━━━━━━━━━━━━━\u001b[0m \u001b[32m58.3/58.3 kB\u001b[0m \u001b[31m6.2 MB/s\u001b[0m eta \u001b[36m0:00:00\u001b[0m\n",
            "\u001b[2K     \u001b[90m━━━━━━━━━━━━━━━━━━━━━━━━━━━━━━━━━━━━━━━━\u001b[0m \u001b[32m71.9/71.9 kB\u001b[0m \u001b[31m8.8 MB/s\u001b[0m eta \u001b[36m0:00:00\u001b[0m\n",
            "\u001b[2K     \u001b[90m━━━━━━━━━━━━━━━━━━━━━━━━━━━━━━━━━━━━━━━━\u001b[0m \u001b[32m53.2/53.2 kB\u001b[0m \u001b[31m6.6 MB/s\u001b[0m eta \u001b[36m0:00:00\u001b[0m\n",
            "\u001b[2K     \u001b[90m━━━━━━━━━━━━━━━━━━━━━━━━━━━━━━━━━━━━━━━━\u001b[0m \u001b[32m307.7/307.7 kB\u001b[0m \u001b[31m24.9 MB/s\u001b[0m eta \u001b[36m0:00:00\u001b[0m\n",
            "\u001b[2K     \u001b[90m━━━━━━━━━━━━━━━━━━━━━━━━━━━━━━━━━━━━━━━━\u001b[0m \u001b[32m341.4/341.4 kB\u001b[0m \u001b[31m26.9 MB/s\u001b[0m eta \u001b[36m0:00:00\u001b[0m\n",
            "\u001b[2K     \u001b[90m━━━━━━━━━━━━━━━━━━━━━━━━━━━━━━━━━━━━━━━━\u001b[0m \u001b[32m3.4/3.4 MB\u001b[0m \u001b[31m46.0 MB/s\u001b[0m eta \u001b[36m0:00:00\u001b[0m\n",
            "\u001b[2K     \u001b[90m━━━━━━━━━━━━━━━━━━━━━━━━━━━━━━━━━━━━━━━━\u001b[0m \u001b[32m1.3/1.3 MB\u001b[0m \u001b[31m31.1 MB/s\u001b[0m eta \u001b[36m0:00:00\u001b[0m\n",
            "\u001b[?25h  Building wheel for ffmpy (setup.py) ... \u001b[?25l\u001b[?25hdone\n",
            "\u001b[31mERROR: pip's dependency resolver does not currently take into account all the packages that are installed. This behaviour is the source of the following dependency conflicts.\n",
            "spacy 3.7.4 requires typer<0.10.0,>=0.3.0, but you have typer 0.12.3 which is incompatible.\n",
            "weasel 0.3.4 requires typer<0.10.0,>=0.3.0, but you have typer 0.12.3 which is incompatible.\u001b[0m\u001b[31m\n",
            "\u001b[0m"
          ]
        }
      ],
      "source": [
        "!pip install -q nltk\n",
        "!pip install -q autocorrect\n",
        "!pip install -q transformers\n",
        "!pip install -q gradio\n",
        "!pip install -q beautifulsoup4"
      ]
    },
    {
      "cell_type": "code",
      "execution_count": null,
      "metadata": {
        "colab": {
          "base_uri": "https://localhost:8080/"
        },
        "id": "qg1dWDV2CdKz",
        "outputId": "2685fba9-4086-4a79-8d1d-5170bf479eaf"
      },
      "outputs": [
        {
          "output_type": "stream",
          "name": "stderr",
          "text": [
            "[nltk_data] Downloading package stopwords to /root/nltk_data...\n",
            "[nltk_data]   Package stopwords is already up-to-date!\n",
            "[nltk_data] Downloading package punkt to /root/nltk_data...\n",
            "[nltk_data]   Package punkt is already up-to-date!\n"
          ]
        }
      ],
      "source": [
        "import tensorflow as tf\n",
        "import os\n",
        "import warnings\n",
        "warnings.filterwarnings(\"ignore\", category=FutureWarning)\n",
        "warnings.filterwarnings(\"ignore\", category=DeprecationWarning)\n",
        "from bs4 import BeautifulSoup\n",
        "import nltk\n",
        "import re\n",
        "nltk.download('stopwords')\n",
        "nltk.download('punkt')\n",
        "from nltk.tokenize import sent_tokenize,word_tokenize\n",
        "from nltk.corpus import stopwords\n",
        "from string import punctuation\n",
        "from nltk.corpus import stopwords, brown\n",
        "stop_words  = stopwords.words('english')\n",
        "from autocorrect import Speller\n",
        "from nltk.tokenize import word_tokenize\n",
        "import requests\n",
        "import json\n",
        "from transformers import BertTokenizer, BertForQuestionAnswering, AdamW\n",
        "import torch"
      ]
    },
    {
      "cell_type": "markdown",
      "metadata": {
        "id": "uwoAr3Pu5Smb"
      },
      "source": [
        "### Pre-processing"
      ]
    },
    {
      "cell_type": "code",
      "execution_count": null,
      "metadata": {
        "id": "TkwnD2L5CpvX"
      },
      "outputs": [],
      "source": [
        "#extracting the url\n",
        "def extract_text_from_url(url):\n",
        "    print(\"---get crawl data---\")\n",
        "    response = requests.get(url=url, headers={'User-Agent': 'Mozilla/5.0'})\n",
        "    soup = BeautifulSoup(response.text, 'lxml')\n",
        "    paragraphs = soup.find_all('p')\n",
        "    text_crawled = ' .  '.join([p.get_text(strip=True) for p in paragraphs])\n",
        "\n",
        "\n",
        "    return text_crawled"
      ]
    },
    {
      "cell_type": "code",
      "execution_count": null,
      "metadata": {
        "id": "HrVnITK7CxAe"
      },
      "outputs": [],
      "source": [
        "def clean_text_basic(text):\n",
        "    # Remove square brackets and their contents\n",
        "    cleaned_text = re.sub(r'\\[.*?\\]', '', text)\n",
        "\n",
        "    # Remove leading and trailing whitespace\n",
        "    cleaned_text = cleaned_text.strip()\n",
        "\n",
        "    return cleaned_text\n",
        "#lower casing the text\n",
        "def to_lower(text):\n",
        "    \"\"\"\n",
        "    Converting text to lower case as in, converting \"Hello\" to  \"hello\" or \"Hi\" to \"hi\".\n",
        "    \"\"\"\n",
        "    # Specll check the words\n",
        "    spell  = Speller(lang='en')\n",
        "    texts = spell(text)\n",
        "    return ' '.join([w.lower() for w in word_tokenize(text)])\n"
      ]
    },
    {
      "cell_type": "code",
      "execution_count": null,
      "metadata": {
        "id": "p_pcs6owFAdL"
      },
      "outputs": [],
      "source": [
        "url = \"https://www.britannica.com/science/solar-system\"\n",
        "text = extract_text_from_url(url)"
      ]
    },
    {
      "cell_type": "code",
      "execution_count": null,
      "metadata": {
        "id": "wOcXKH1uGBV4"
      },
      "outputs": [],
      "source": [
        "text = clean_text_basic(text)"
      ]
    },
    {
      "cell_type": "code",
      "execution_count": null,
      "metadata": {
        "id": "adA9PU5HGF0l",
        "colab": {
          "base_uri": "https://localhost:8080/",
          "height": 209
        },
        "outputId": "9b71508e-867d-4743-b78d-7b649ea20ce8"
      },
      "outputs": [
        {
          "output_type": "execute_result",
          "data": {
            "text/plain": [
              "'nward kuiper belt interplanetary mediuman exceedingly tenuous plasma ionized gas laced concentrations dust particlesextends outward sun au special offer students finish semester strong britannica learn solar system even contains objects interstellar space passing two interstellar objects observed oumuamua unusual cigarlike pancakelike shape possibly composed nitrogen ice comet borisov much like comets solar system much higher abundance carbon monoxide orbits solar system scalethe eight planets solar system pluto montage images scaled show approximate sizes bodies relative one another outward sun represented scale yellow segment extreme left four rocky terrestrial planets mercury venus earth mars four hydrogenrich giant planets jupiter saturn uranus neptune icy comparatively tiny plutomoreall planets dwarf planets rocky asteroids icy bodies kuiper belt move around sun elliptical orbits direction sun rotates motion termed prograde direct motion looking system vantage point earths north pole observer would find orbital motions counterclockwise direction striking contrast comet nuclei oort cloud orbits random directions corresponding spherical distribution around plane planets shape objects orbit defined terms eccentricity perfectly circular orbit eccentricity increasing elongation orbits shape eccentricity increases toward value eccentricity parabola eight major planets venus neptune circular orbits around sun eccentricities respectively mercury closest planet highest eccentricity dwarf planet pluto even eccentric another defining attribute objects orbit around sun inclination angle makes plane earths orbitthe ecliptic plane planets mercurys greatest inclination orbit lying ecliptic plutos orbit comparison much steeply inclined orbits small bodies generally higher eccentricities higher inclinations planets comets oort cloud inclinations greater motion around sun thus opposite suns rotation retrograde'"
            ],
            "application/vnd.google.colaboratory.intrinsic+json": {
              "type": "string"
            }
          },
          "metadata": {},
          "execution_count": 10
        }
      ],
      "source": [
        "text[10000:100000]"
      ]
    },
    {
      "cell_type": "code",
      "execution_count": null,
      "metadata": {
        "id": "z80wWVWMIUxv",
        "colab": {
          "base_uri": "https://localhost:8080/"
        },
        "outputId": "b1bdb375-fd5a-4f7d-c33c-5974523d88dd"
      },
      "outputs": [
        {
          "output_type": "stream",
          "name": "stdout",
          "text": [
            "Training data preparation complete.\n"
          ]
        }
      ],
      "source": [
        "# Load the SQuAD dataset JSON file\n",
        "# def file_get_contents(fname):\n",
        "#     if s.stripos(fname, 'http://'):\n",
        "#         import urllib2\n",
        "#         return urllib2.urlopen(fname).read(maxUrlRead)\n",
        "#     else:\n",
        "#         return open(fname).read(maxFileRead)\n",
        "\n",
        "#Training data\n",
        "with open(r\"/content/train-v1.1.json\", 'r') as f:\n",
        "    squad_data = json.load(f)\n",
        "\n",
        "training_data = []\n",
        "for article in squad_data['data']:\n",
        "    for paragraph in article['paragraphs']:\n",
        "        context = paragraph['context']\n",
        "        for qa in paragraph['qas']:\n",
        "            question = qa['question']\n",
        "            if qa['answers']:\n",
        "                answer = qa['answers'][0]['text']\n",
        "                training_data.append({'question': question, 'answer': answer, 'context': context})\n",
        "\n",
        "# Save the processed training data in a new JSON file\n",
        "with open('training_data.json', 'w') as f:\n",
        "    json.dump(training_data, f, indent=4)\n",
        "\n",
        "print(\"Training data preparation complete.\")"
      ]
    },
    {
      "cell_type": "code",
      "execution_count": null,
      "metadata": {
        "id": "TMkdcQkdJ_ro",
        "colab": {
          "base_uri": "https://localhost:8080/"
        },
        "outputId": "4a30d103-a44d-45c4-e354-665a962e669f"
      },
      "outputs": [
        {
          "output_type": "execute_result",
          "data": {
            "text/plain": [
              "[{'question': 'When did Beyonce start becoming popular?',\n",
              "  'answer': 'in the late 1990s',\n",
              "  'context': 'Beyoncé Giselle Knowles-Carter (/biːˈjɒnseɪ/ bee-YON-say) (born September 4, 1981) is an American singer, songwriter, record producer and actress. Born and raised in Houston, Texas, she performed in various singing and dancing competitions as a child, and rose to fame in the late 1990s as lead singer of R&B girl-group Destiny\\'s Child. Managed by her father, Mathew Knowles, the group became one of the world\\'s best-selling girl groups of all time. Their hiatus saw the release of Beyoncé\\'s debut album, Dangerously in Love (2003), which established her as a solo artist worldwide, earned five Grammy Awards and featured the Billboard Hot 100 number-one singles \"Crazy in Love\" and \"Baby Boy\".'},\n",
              " {'question': 'What areas did Beyonce compete in when she was growing up?',\n",
              "  'answer': 'singing and dancing',\n",
              "  'context': 'Beyoncé Giselle Knowles-Carter (/biːˈjɒnseɪ/ bee-YON-say) (born September 4, 1981) is an American singer, songwriter, record producer and actress. Born and raised in Houston, Texas, she performed in various singing and dancing competitions as a child, and rose to fame in the late 1990s as lead singer of R&B girl-group Destiny\\'s Child. Managed by her father, Mathew Knowles, the group became one of the world\\'s best-selling girl groups of all time. Their hiatus saw the release of Beyoncé\\'s debut album, Dangerously in Love (2003), which established her as a solo artist worldwide, earned five Grammy Awards and featured the Billboard Hot 100 number-one singles \"Crazy in Love\" and \"Baby Boy\".'},\n",
              " {'question': \"When did Beyonce leave Destiny's Child and become a solo singer?\",\n",
              "  'answer': '2003',\n",
              "  'context': 'Beyoncé Giselle Knowles-Carter (/biːˈjɒnseɪ/ bee-YON-say) (born September 4, 1981) is an American singer, songwriter, record producer and actress. Born and raised in Houston, Texas, she performed in various singing and dancing competitions as a child, and rose to fame in the late 1990s as lead singer of R&B girl-group Destiny\\'s Child. Managed by her father, Mathew Knowles, the group became one of the world\\'s best-selling girl groups of all time. Their hiatus saw the release of Beyoncé\\'s debut album, Dangerously in Love (2003), which established her as a solo artist worldwide, earned five Grammy Awards and featured the Billboard Hot 100 number-one singles \"Crazy in Love\" and \"Baby Boy\".'},\n",
              " {'question': 'In what city and state did Beyonce  grow up? ',\n",
              "  'answer': 'Houston, Texas',\n",
              "  'context': 'Beyoncé Giselle Knowles-Carter (/biːˈjɒnseɪ/ bee-YON-say) (born September 4, 1981) is an American singer, songwriter, record producer and actress. Born and raised in Houston, Texas, she performed in various singing and dancing competitions as a child, and rose to fame in the late 1990s as lead singer of R&B girl-group Destiny\\'s Child. Managed by her father, Mathew Knowles, the group became one of the world\\'s best-selling girl groups of all time. Their hiatus saw the release of Beyoncé\\'s debut album, Dangerously in Love (2003), which established her as a solo artist worldwide, earned five Grammy Awards and featured the Billboard Hot 100 number-one singles \"Crazy in Love\" and \"Baby Boy\".'},\n",
              " {'question': 'In which decade did Beyonce become famous?',\n",
              "  'answer': 'late 1990s',\n",
              "  'context': 'Beyoncé Giselle Knowles-Carter (/biːˈjɒnseɪ/ bee-YON-say) (born September 4, 1981) is an American singer, songwriter, record producer and actress. Born and raised in Houston, Texas, she performed in various singing and dancing competitions as a child, and rose to fame in the late 1990s as lead singer of R&B girl-group Destiny\\'s Child. Managed by her father, Mathew Knowles, the group became one of the world\\'s best-selling girl groups of all time. Their hiatus saw the release of Beyoncé\\'s debut album, Dangerously in Love (2003), which established her as a solo artist worldwide, earned five Grammy Awards and featured the Billboard Hot 100 number-one singles \"Crazy in Love\" and \"Baby Boy\".'},\n",
              " {'question': 'In what R&B group was she the lead singer?',\n",
              "  'answer': \"Destiny's Child\",\n",
              "  'context': 'Beyoncé Giselle Knowles-Carter (/biːˈjɒnseɪ/ bee-YON-say) (born September 4, 1981) is an American singer, songwriter, record producer and actress. Born and raised in Houston, Texas, she performed in various singing and dancing competitions as a child, and rose to fame in the late 1990s as lead singer of R&B girl-group Destiny\\'s Child. Managed by her father, Mathew Knowles, the group became one of the world\\'s best-selling girl groups of all time. Their hiatus saw the release of Beyoncé\\'s debut album, Dangerously in Love (2003), which established her as a solo artist worldwide, earned five Grammy Awards and featured the Billboard Hot 100 number-one singles \"Crazy in Love\" and \"Baby Boy\".'},\n",
              " {'question': 'What album made her a worldwide known artist?',\n",
              "  'answer': 'Dangerously in Love',\n",
              "  'context': 'Beyoncé Giselle Knowles-Carter (/biːˈjɒnseɪ/ bee-YON-say) (born September 4, 1981) is an American singer, songwriter, record producer and actress. Born and raised in Houston, Texas, she performed in various singing and dancing competitions as a child, and rose to fame in the late 1990s as lead singer of R&B girl-group Destiny\\'s Child. Managed by her father, Mathew Knowles, the group became one of the world\\'s best-selling girl groups of all time. Their hiatus saw the release of Beyoncé\\'s debut album, Dangerously in Love (2003), which established her as a solo artist worldwide, earned five Grammy Awards and featured the Billboard Hot 100 number-one singles \"Crazy in Love\" and \"Baby Boy\".'},\n",
              " {'question': \"Who managed the Destiny's Child group?\",\n",
              "  'answer': 'Mathew Knowles',\n",
              "  'context': 'Beyoncé Giselle Knowles-Carter (/biːˈjɒnseɪ/ bee-YON-say) (born September 4, 1981) is an American singer, songwriter, record producer and actress. Born and raised in Houston, Texas, she performed in various singing and dancing competitions as a child, and rose to fame in the late 1990s as lead singer of R&B girl-group Destiny\\'s Child. Managed by her father, Mathew Knowles, the group became one of the world\\'s best-selling girl groups of all time. Their hiatus saw the release of Beyoncé\\'s debut album, Dangerously in Love (2003), which established her as a solo artist worldwide, earned five Grammy Awards and featured the Billboard Hot 100 number-one singles \"Crazy in Love\" and \"Baby Boy\".'},\n",
              " {'question': 'When did Beyoncé rise to fame?',\n",
              "  'answer': 'late 1990s',\n",
              "  'context': 'Beyoncé Giselle Knowles-Carter (/biːˈjɒnseɪ/ bee-YON-say) (born September 4, 1981) is an American singer, songwriter, record producer and actress. Born and raised in Houston, Texas, she performed in various singing and dancing competitions as a child, and rose to fame in the late 1990s as lead singer of R&B girl-group Destiny\\'s Child. Managed by her father, Mathew Knowles, the group became one of the world\\'s best-selling girl groups of all time. Their hiatus saw the release of Beyoncé\\'s debut album, Dangerously in Love (2003), which established her as a solo artist worldwide, earned five Grammy Awards and featured the Billboard Hot 100 number-one singles \"Crazy in Love\" and \"Baby Boy\".'},\n",
              " {'question': \"What role did Beyoncé have in Destiny's Child?\",\n",
              "  'answer': 'lead singer',\n",
              "  'context': 'Beyoncé Giselle Knowles-Carter (/biːˈjɒnseɪ/ bee-YON-say) (born September 4, 1981) is an American singer, songwriter, record producer and actress. Born and raised in Houston, Texas, she performed in various singing and dancing competitions as a child, and rose to fame in the late 1990s as lead singer of R&B girl-group Destiny\\'s Child. Managed by her father, Mathew Knowles, the group became one of the world\\'s best-selling girl groups of all time. Their hiatus saw the release of Beyoncé\\'s debut album, Dangerously in Love (2003), which established her as a solo artist worldwide, earned five Grammy Awards and featured the Billboard Hot 100 number-one singles \"Crazy in Love\" and \"Baby Boy\".'},\n",
              " {'question': 'What was the first album Beyoncé released as a solo artist?',\n",
              "  'answer': 'Dangerously in Love',\n",
              "  'context': 'Beyoncé Giselle Knowles-Carter (/biːˈjɒnseɪ/ bee-YON-say) (born September 4, 1981) is an American singer, songwriter, record producer and actress. Born and raised in Houston, Texas, she performed in various singing and dancing competitions as a child, and rose to fame in the late 1990s as lead singer of R&B girl-group Destiny\\'s Child. Managed by her father, Mathew Knowles, the group became one of the world\\'s best-selling girl groups of all time. Their hiatus saw the release of Beyoncé\\'s debut album, Dangerously in Love (2003), which established her as a solo artist worldwide, earned five Grammy Awards and featured the Billboard Hot 100 number-one singles \"Crazy in Love\" and \"Baby Boy\".'},\n",
              " {'question': 'When did Beyoncé release Dangerously in Love?',\n",
              "  'answer': '2003',\n",
              "  'context': 'Beyoncé Giselle Knowles-Carter (/biːˈjɒnseɪ/ bee-YON-say) (born September 4, 1981) is an American singer, songwriter, record producer and actress. Born and raised in Houston, Texas, she performed in various singing and dancing competitions as a child, and rose to fame in the late 1990s as lead singer of R&B girl-group Destiny\\'s Child. Managed by her father, Mathew Knowles, the group became one of the world\\'s best-selling girl groups of all time. Their hiatus saw the release of Beyoncé\\'s debut album, Dangerously in Love (2003), which established her as a solo artist worldwide, earned five Grammy Awards and featured the Billboard Hot 100 number-one singles \"Crazy in Love\" and \"Baby Boy\".'},\n",
              " {'question': 'How many Grammy awards did Beyoncé win for her first solo album?',\n",
              "  'answer': 'five',\n",
              "  'context': 'Beyoncé Giselle Knowles-Carter (/biːˈjɒnseɪ/ bee-YON-say) (born September 4, 1981) is an American singer, songwriter, record producer and actress. Born and raised in Houston, Texas, she performed in various singing and dancing competitions as a child, and rose to fame in the late 1990s as lead singer of R&B girl-group Destiny\\'s Child. Managed by her father, Mathew Knowles, the group became one of the world\\'s best-selling girl groups of all time. Their hiatus saw the release of Beyoncé\\'s debut album, Dangerously in Love (2003), which established her as a solo artist worldwide, earned five Grammy Awards and featured the Billboard Hot 100 number-one singles \"Crazy in Love\" and \"Baby Boy\".'},\n",
              " {'question': \"What was Beyoncé's role in Destiny's Child?\",\n",
              "  'answer': 'lead singer',\n",
              "  'context': 'Beyoncé Giselle Knowles-Carter (/biːˈjɒnseɪ/ bee-YON-say) (born September 4, 1981) is an American singer, songwriter, record producer and actress. Born and raised in Houston, Texas, she performed in various singing and dancing competitions as a child, and rose to fame in the late 1990s as lead singer of R&B girl-group Destiny\\'s Child. Managed by her father, Mathew Knowles, the group became one of the world\\'s best-selling girl groups of all time. Their hiatus saw the release of Beyoncé\\'s debut album, Dangerously in Love (2003), which established her as a solo artist worldwide, earned five Grammy Awards and featured the Billboard Hot 100 number-one singles \"Crazy in Love\" and \"Baby Boy\".'},\n",
              " {'question': \"What was the name of Beyoncé's first solo album?\",\n",
              "  'answer': 'Dangerously in Love',\n",
              "  'context': 'Beyoncé Giselle Knowles-Carter (/biːˈjɒnseɪ/ bee-YON-say) (born September 4, 1981) is an American singer, songwriter, record producer and actress. Born and raised in Houston, Texas, she performed in various singing and dancing competitions as a child, and rose to fame in the late 1990s as lead singer of R&B girl-group Destiny\\'s Child. Managed by her father, Mathew Knowles, the group became one of the world\\'s best-selling girl groups of all time. Their hiatus saw the release of Beyoncé\\'s debut album, Dangerously in Love (2003), which established her as a solo artist worldwide, earned five Grammy Awards and featured the Billboard Hot 100 number-one singles \"Crazy in Love\" and \"Baby Boy\".'}]"
            ]
          },
          "metadata": {},
          "execution_count": 12
        }
      ],
      "source": [
        "training_data[:15]"
      ]
    },
    {
      "cell_type": "code",
      "execution_count": null,
      "metadata": {
        "id": "6g2hUp5FGTvA",
        "colab": {
          "base_uri": "https://localhost:8080/",
          "height": 509,
          "referenced_widgets": [
            "2612f5e4cb9e4eeb90e59ca1cb2aa3e8",
            "ed9577b0d46e40a5be9c935c141ebe76",
            "dcc2014841f94bfda4ef39342f53e1a1",
            "2bc8eea2089c473c99c282984ecff562",
            "0c034c9f6acb4989b50f3d9bdc6ab9ca",
            "c977dd09ada842f9b20ca559ede862b4",
            "d94e386fa52540ddae124e220a257d13",
            "11084c9f4eec4923a0b773d98d0ed927",
            "94eff0e7e49b4af1879c110886f15696",
            "cfd831a5dd7740fd962f30362513b6e5",
            "b77768475b244825889c8665076c6b46",
            "1a545e98e22a4662b5c1b0a474cdcd01",
            "29659316e14a4e8c8cd723a43b217f40",
            "b65311e01c504e4eaa02760f6183c173",
            "f4486c17fc714a768f5af5b0276228de",
            "bda5827d497447fd83c54156c05b83f2",
            "9b2c7700e5f8459dada98f80fb3bc233",
            "42d453c47f134b4996a91abf46872c78",
            "ef31e9310b1f49098449f6833ce6f48c",
            "5fd829e7803a4eb18f52aca215f437bd",
            "070bf0ceafa7469ead6828bf5bf28ad3",
            "6e98c2910d0f42dfba4afaeeecf3da5f",
            "ae00cb992b3a43869d32111bec251071",
            "a43800839d0d421296a7b66c54a200e9",
            "dfbc844a4dfc45aebc9ba37548981809",
            "01392a8ca91a40b79164c1fbb573e24a",
            "a2effff074ff4d279d462b9c1e927aa3",
            "d074bd08d0e54c9092ac2984efe55a38",
            "5049092884c34d13882c3ada2e58c9cf",
            "7d5ad01c61d74497b22d305909abbc0e",
            "81cbef419ea44dc490547404ef15bc47",
            "da148b03f2ad42ffa292d735501a095a",
            "938eddccebcb4633bba0bb109dada480",
            "23e2621b4af443b3aeff25abc68ce3e0",
            "d49a442393e648569d2b1572f4dd50d4",
            "f38d0c0c6e9b40b5a3ee4a563c1f15a0",
            "8aaac4003b8346099063649d3a4477b0",
            "0763c6c1b21941daac4d5a54936762c1",
            "417d860fff02491c9bfb8874cab38da9",
            "110d4d59a3c14a32ae0aec42a048dfd8",
            "e801ab815b0448d886c4bed75bc4e275",
            "a0a6696d0c674244b597769a4c7f2aee",
            "d805b012b8ea4cfa8a6fda62f5c9eb56",
            "209c34297db84778813ca5d7bda42652",
            "018955874ff1405da7fa9eb87ef67967",
            "27d0831bbc594cc08889695a84566bd8",
            "b92c9375a6fd45ce84c286da5fd7e610",
            "fa041cc85efe4827b43947a3b80e60ef",
            "c7ed5e3a40d144fdbc4adf43b7486af5",
            "49450744614e451c8b1ea90a80e83915",
            "eab234f3c7514cbfa60a8989a72382b9",
            "8765392ba6f34d929d6adc883087ebf5",
            "8bb1fc7e23fe49f794ccb341338e3d67",
            "8af7273e9bd3490ab687213b9ae81526",
            "8c4d56edf5fd463383ba120b6e038925"
          ]
        },
        "outputId": "61cedbcc-4551-4486-8342-354c80ba1ff9"
      },
      "outputs": [
        {
          "output_type": "stream",
          "name": "stderr",
          "text": [
            "/usr/local/lib/python3.10/dist-packages/huggingface_hub/utils/_token.py:88: UserWarning: \n",
            "The secret `HF_TOKEN` does not exist in your Colab secrets.\n",
            "To authenticate with the Hugging Face Hub, create a token in your settings tab (https://huggingface.co/settings/tokens), set it as secret in your Google Colab and restart your session.\n",
            "You will be able to reuse this secret in all of your notebooks.\n",
            "Please note that authentication is recommended but still optional to access public models or datasets.\n",
            "  warnings.warn(\n"
          ]
        },
        {
          "output_type": "display_data",
          "data": {
            "text/plain": [
              "tokenizer_config.json:   0%|          | 0.00/48.0 [00:00<?, ?B/s]"
            ],
            "application/vnd.jupyter.widget-view+json": {
              "version_major": 2,
              "version_minor": 0,
              "model_id": "2612f5e4cb9e4eeb90e59ca1cb2aa3e8"
            }
          },
          "metadata": {}
        },
        {
          "output_type": "display_data",
          "data": {
            "text/plain": [
              "vocab.txt:   0%|          | 0.00/232k [00:00<?, ?B/s]"
            ],
            "application/vnd.jupyter.widget-view+json": {
              "version_major": 2,
              "version_minor": 0,
              "model_id": "1a545e98e22a4662b5c1b0a474cdcd01"
            }
          },
          "metadata": {}
        },
        {
          "output_type": "display_data",
          "data": {
            "text/plain": [
              "tokenizer.json:   0%|          | 0.00/466k [00:00<?, ?B/s]"
            ],
            "application/vnd.jupyter.widget-view+json": {
              "version_major": 2,
              "version_minor": 0,
              "model_id": "ae00cb992b3a43869d32111bec251071"
            }
          },
          "metadata": {}
        },
        {
          "output_type": "display_data",
          "data": {
            "text/plain": [
              "config.json:   0%|          | 0.00/570 [00:00<?, ?B/s]"
            ],
            "application/vnd.jupyter.widget-view+json": {
              "version_major": 2,
              "version_minor": 0,
              "model_id": "23e2621b4af443b3aeff25abc68ce3e0"
            }
          },
          "metadata": {}
        },
        {
          "output_type": "display_data",
          "data": {
            "text/plain": [
              "model.safetensors:   0%|          | 0.00/440M [00:00<?, ?B/s]"
            ],
            "application/vnd.jupyter.widget-view+json": {
              "version_major": 2,
              "version_minor": 0,
              "model_id": "018955874ff1405da7fa9eb87ef67967"
            }
          },
          "metadata": {}
        },
        {
          "output_type": "stream",
          "name": "stderr",
          "text": [
            "Some weights of BertForQuestionAnswering were not initialized from the model checkpoint at bert-base-uncased and are newly initialized: ['qa_outputs.bias', 'qa_outputs.weight']\n",
            "You should probably TRAIN this model on a down-stream task to be able to use it for predictions and inference.\n"
          ]
        },
        {
          "output_type": "stream",
          "name": "stdout",
          "text": [
            "Epoch 1, Loss: 56.2482\n",
            "Epoch 2, Loss: 53.5219\n",
            "Epoch 3, Loss: 50.7598\n",
            "Epoch 4, Loss: 46.6219\n",
            "Epoch 5, Loss: 43.1953\n",
            "Epoch 6, Loss: 41.6886\n",
            "Epoch 7, Loss: 34.8387\n",
            "Epoch 8, Loss: 35.7349\n",
            "Epoch 9, Loss: 32.6585\n",
            "Epoch 10, Loss: 24.2254\n"
          ]
        }
      ],
      "source": [
        "# Load pre-trained model and tokenizer\n",
        "model_name = \"bert-base-uncased\"\n",
        "tokenizer = BertTokenizer.from_pretrained(model_name)\n",
        "model = BertForQuestionAnswering.from_pretrained(model_name)\n",
        "\n",
        "# Prepare and tokenize your training data\n",
        "# Format: [{\"context\": \"...\", \"question\": \"...\", \"answer\": \"...\"}, ...]\n",
        "train_data = training_data[:15]  # Replace with your training data\n",
        "\n",
        "# Train the model\n",
        "optimizer = AdamW(model.parameters(), lr=2e-5)  # Adjust learning rate\n",
        "model.train()\n",
        "\n",
        "epochs = 10\n",
        "\n",
        "for epoch in range(epochs):\n",
        "    total_loss = 0\n",
        "    for example in train_data:\n",
        "        context = example['context']\n",
        "        question = example['question']\n",
        "        answer = example['answer']\n",
        "\n",
        "        # Tokenize the context and question\n",
        "        encoded_data = tokenizer(context, question, padding='max_length', truncation=True, max_length=512, return_tensors='pt')\n",
        "\n",
        "        # Find the positions of the answer in the context\n",
        "        start_idx = context.find(answer)\n",
        "        end_idx = start_idx + len(answer)\n",
        "\n",
        "        if start_idx == -1:  # Handle cases where answer is not found\n",
        "            continue\n",
        "\n",
        "        # Prepare the inputs with the answer token positions\n",
        "        inputs = {\n",
        "            'input_ids': encoded_data['input_ids'],\n",
        "            'attention_mask': encoded_data['attention_mask'],\n",
        "            'start_positions': torch.tensor([start_idx]),\n",
        "            'end_positions': torch.tensor([end_idx])\n",
        "        }\n",
        "\n",
        "        optimizer.zero_grad()\n",
        "        outputs = model(**inputs)\n",
        "\n",
        "        # Check if the loss is valid (not NaN or inf)\n",
        "        loss = outputs.loss\n",
        "        if loss != loss:\n",
        "            continue  # Skip this batch if loss is NaN\n",
        "\n",
        "        loss.backward()\n",
        "        optimizer.step()\n",
        "\n",
        "        total_loss += loss.item()\n",
        "\n",
        "    print(f\"Epoch {epoch+1}, Loss: {total_loss:.4f}\")\n",
        "\n",
        "# Save the trained model\n",
        "model.save_pretrained(\"trained_qa_model\")"
      ]
    },
    {
      "cell_type": "code",
      "execution_count": null,
      "metadata": {
        "id": "Pv6vK9ecN_pu"
      },
      "outputs": [],
      "source": [
        "def get_answer(context, question, model_path=\"trained_qa_model\", max_seq_length=512):\n",
        "    # Load the trained model and tokenizer\n",
        "    model = BertForQuestionAnswering.from_pretrained(model_path)\n",
        "    tokenizer = BertTokenizer.from_pretrained(\"bert-base-uncased\")  # Same tokenizer as training\n",
        "\n",
        "    # Tokenize the input question and context\n",
        "    encoded_data = tokenizer.encode_plus(\n",
        "        question,\n",
        "        context,\n",
        "        max_length=max_seq_length,\n",
        "        truncation='only_second',  # Choose 'only_first' or 'only_second' to handle overflow\n",
        "        padding='max_length',\n",
        "        return_tensors='pt',\n",
        "    )\n",
        "\n",
        "    # Get the model's predicted start and end positions\n",
        "    outputs = model(**encoded_data)\n",
        "    start_logits = outputs.start_logits\n",
        "    end_logits = outputs.end_logits\n",
        "\n",
        "    # Find the token positions with the maximum probabilities\n",
        "    start_idx = torch.argmax(start_logits)\n",
        "    end_idx = torch.argmax(end_logits)\n",
        "\n",
        "    # Retrieve the tokenized answer span\n",
        "    answer_tokens = encoded_data['input_ids'][0][start_idx:end_idx+1]\n",
        "    answer = tokenizer.decode(answer_tokens, skip_special_tokens=True)\n",
        "\n",
        "    return answer"
      ]
    },
    {
      "cell_type": "markdown",
      "metadata": {
        "id": "0MP5lVqN5xfB"
      },
      "source": [
        "### Test before give context"
      ]
    },
    {
      "cell_type": "code",
      "execution_count": null,
      "metadata": {
        "id": "qrDBp69dOB-U",
        "colab": {
          "base_uri": "https://localhost:8080/"
        },
        "outputId": "031dbca8-bdef-408b-99d3-6dc7a68fcd79"
      },
      "outputs": [
        {
          "output_type": "stream",
          "name": "stdout",
          "text": [
            "Predicted Answer: \n"
          ]
        }
      ],
      "source": [
        "question = 'who is Messi?'\n",
        "predicted_answer = get_answer(context, question)\n",
        "print(\"Predicted Answer:\", predicted_answer)   #will return blank space if nothing is predicted"
      ]
    },
    {
      "cell_type": "code",
      "execution_count": null,
      "metadata": {
        "id": "YXeWu-EBOFeF",
        "colab": {
          "base_uri": "https://localhost:8080/"
        },
        "outputId": "b006d5f9-ec41-4015-d439-e1b42496c80c"
      },
      "outputs": [
        {
          "output_type": "stream",
          "name": "stdout",
          "text": [
            "Predicted Answer: \n"
          ]
        }
      ],
      "source": [
        "question = 'What does AON stand for?'\n",
        "predicted_answer = get_answer(context, question)\n",
        "print(\"Predicted Answer:\", predicted_answer)   #will return blank space if nothing is predicted"
      ]
    },
    {
      "cell_type": "markdown",
      "metadata": {
        "id": "cCuAeVIS56H-"
      },
      "source": [
        "### Test after give context"
      ]
    },
    {
      "cell_type": "code",
      "execution_count": null,
      "metadata": {
        "id": "fOFU9PFSOIUF",
        "colab": {
          "base_uri": "https://localhost:8080/"
        },
        "outputId": "e0472574-6076-46ff-9048-a936e2477258"
      },
      "outputs": [
        {
          "output_type": "stream",
          "name": "stdout",
          "text": [
            "Answer: interstellar space\n"
          ]
        }
      ],
      "source": [
        "from transformers import pipeline\n",
        "\n",
        "nlp = pipeline(\"question-answering\", model=\"distilbert-base-cased-distilled-squad\", tokenizer=\"distilbert-base-cased\")\n",
        "\n",
        "context = text\n",
        "question = \"The solar system even contains objects from ?\"\n",
        "\n",
        "# pipeline to answer the question\n",
        "result = nlp(question=question, context=context, padding=\"max_length\", truncation=True)\n",
        "\n",
        "print(\"Answer:\", result['answer'])"
      ]
    },
    {
      "cell_type": "code",
      "execution_count": null,
      "metadata": {
        "id": "8hOw_2ggOopU",
        "colab": {
          "base_uri": "https://localhost:8080/"
        },
        "outputId": "3e4d72b8-89e4-4a31-cc39-76cee41a8ee7"
      },
      "outputs": [
        {
          "output_type": "stream",
          "name": "stdout",
          "text": [
            "Answer: rocky debris\n"
          ]
        }
      ],
      "source": [
        "context = text\n",
        "\n",
        "question = \"What  are remnants of the planet-building process in the inner and outer solar system ? \"\n",
        "# pipeline to answer the question\n",
        "result = nlp(question=question, context=context, padding=\"max_length\", truncation=True)\n",
        "\n",
        "print(\"Answer:\", result['answer'])"
      ]
    },
    {
      "cell_type": "markdown",
      "metadata": {
        "id": "0p2whBFLPHFa"
      },
      "source": [
        "## Test other url"
      ]
    },
    {
      "cell_type": "markdown",
      "metadata": {
        "id": "SH-7_8KL6Ctr"
      },
      "source": [
        "#### Wiki 🌍"
      ]
    },
    {
      "cell_type": "code",
      "execution_count": null,
      "metadata": {
        "id": "-elWG9G8PGwy",
        "colab": {
          "base_uri": "https://localhost:8080/"
        },
        "outputId": "6e0e84c8-82dc-4080-fbdb-e271ba05d912"
      },
      "outputs": [
        {
          "output_type": "stream",
          "name": "stdout",
          "text": [
            "---get crawl data---\n"
          ]
        }
      ],
      "source": [
        "url = r\"https://en.wikipedia.org/wiki/Solar_System\"\n",
        "text = extract_text_from_url(url)\n",
        "text = clean_text_basic(text)"
      ]
    },
    {
      "cell_type": "code",
      "execution_count": null,
      "metadata": {
        "id": "IJDbDb3M9LqQ",
        "colab": {
          "base_uri": "https://localhost:8080/",
          "height": 192
        },
        "outputId": "4a0dc595-63d4-4369-81f6-c96ba38bee0a"
      },
      "outputs": [
        {
          "output_type": "execute_result",
          "data": {
            "text/plain": [
              "'.  TheSolar Systemis thegravitationallybound system of theSunand the objects that orbit it.It wasformed 4.6 billion years agowhen a dense region of amolecular cloudcollapsed, forming the Sun and aprotoplanetary disc. The Sun is an ordinarymain sequence starthat maintains abalanced equilibriumby thefusionof hydrogen into helium at itscore, releasing this energy from its outerphotosphere. .  The largest objects that orbit the Sun are the eightplanets. In order from the Sun, they are fourterrestrial planets(Mercury,Venus,EarthandMars); twogas giants(JupiterandSaturn); and twoice giants(UranusandNeptune). All terrestrial planets have solid surfaces. Inversely, allgiant planetsdo not have a definite surface, as they are mainly composed ofgasesandliquids. Over 99.86% of the Solar System\\'s mass is in the Sun and nearly 90% of the remaining mass is in Jupiter and Saturn. .  There is a strong consensus among astronomersthat the Solar System has at least eightdwarf planets:Ceres,Pluto,Haumea,Quaoar,Makemake,Gonggong,Eris, andSedna. There are a vast number ofsmall Solar System bodies, such asasteroids,comets,centaurs,meteoroids, andinterplanetary dust clouds. Some of these bodies are in theasteroid belt(between Mars\\'s and Jupiter\\'s orbit) and theKuiper belt(just outside Neptune\\'s orbit).Six planets, six dwarf planets, and other bodies have orbitingnatural satellites, which are commonly called \\'moons\\'. .  The Solar System is constantly flooded by the Sun\\'scharged particles, thesolar wind, forming theheliosphere. Around 75–90astronomical units, the solar wind is halted, resulting in theheliopause. This is the boundary of the Solar System tointerstellar space. The outermost region of the Solar System is the theorizedOort cloud, the source forlong-period comets, extending 2,000–200,000 astronomical units (0.032–3.2light-years). The closest star to the Solar System,Proxima Centauri, is 4.25 light-years away. Both stars belong to theMilky Waygalaxy. .  The Solar System formed 4.568\\xa0billion years ago from the gravitational collapse of a region within a largemolecular cloud.This initial cloud was likely several light-years across and probably birthed several stars.As is typical of molecular clouds, this one consisted mostly of hydrogen, with some helium, and small amounts of heavier elements fused by previous generations of stars. .  As thepre-solar nebulacollapsed,conservation of angular momentumcaused it to rotate faster. The center, where most of the mass collected, became increasingly hotter than the surrounding disc.As the contracting nebula rotated faster, it began to flatten into aprotoplanetary discwith a diameter of roughly 200\\xa0AU (30\\xa0billion\\xa0km; 19\\xa0billion\\xa0mi)and a hot, denseprotostarat the center.The planets formed byaccretionfrom this disc,in which dust and gas gravitationally attracted each other, coalescing to form ever larger bodies. Hundreds of protoplanets may have existed in the early Solar System, but they either merged or were destroyed or ejected, leaving the planets, dwarf planets, and leftoverminor bodies. .  Due to their higher boiling points, only metals and silicates could exist in solid form in the warm inner Solar System close to the Sun (within thefrost line). They would eventually form the rocky planets of Mercury, Venus, Earth, and Mars. Because metallic elements only comprised a very small fraction of the solar nebula, the terrestrial planets could not grow very large. .  The giant planets (Jupiter, Saturn, Uranus, and Neptune) formed further out, beyond the frost line, the point between the orbits of Mars and Jupiter where material is cool enough for volatile icy compounds to remain solid. The ices that formed these planets were more plentiful than the metals and silicates that formed the terrestrial inner planets, allowing them to grow massive enough to capture large atmospheres of hydrogen and helium, the lightest and most abundant elements.Leftover debris that never became planets congregated in regions such as the asteroid belt, Kuiper belt, and Oort cloud. .  Within 50 million years, the pressure and density of hydrogen in the center of the protostar became great enough for it to beginthermonuclear fusion.As helium accumulates at its core the Sun is growing brighter;early in its main-sequence life its brightness was 70% that of what it is today.The temperature,reaction rate, pressure, and density increased untilhydrostatic equilibriumwas achieved: the thermal pressure counterbalancing the force of gravity. At this point, the Sun became amain-sequencestar. .  The main-sequence phase, from beginning to end, will last about 10\\xa0billion years for the Sun compared to around two billion years for all other subsequent phases of the Sun\\'s pre-remnantlife combined.Solar wind from the Sun created theheliosphereand swept away the remaining gas and dust from the protoplanetary disc into interstellar space. .  The Solar System is in a relatively stable, slowly evolving state by following isolated,gravitationally boundorbits around the Sun.Although the Solar System has been fairly stable for billions of years, it is technicallychaotic, and mayeventually be disrupted. There is a small chance that another star will pass through the Solar System in the next few billion years. Although this could destabilize the system and eventually lead millions of years later to expulsion of planets, collisions of planets, or planets hitting the Sun, it would most likely leave the Solar System much as it is today. .  The Solar System will remain roughly as it is known today until the hydrogen in the core of the Sun has been entirely converted to helium, which will occur roughly 5\\xa0billion years from now. This will mark the end of the Sun\\'s main-sequence life. At that time, the core of the Sun will contract with hydrogen fusion occurring along a shell surrounding the inert helium, and the energy output will be greater than at present. The outer layers of the Sun will expand to roughly 260 times its current diameter, and the Sun will become ared giant. Because of its increased surface area, the surface of the Sun will be cooler (2,600\\xa0K (2,330\\xa0°C; 4,220\\xa0°F) at its coolest) than it is on the main sequence. .  The expanding Sun is expected to vaporize Mercury as well as Venus, and render Earth uninhabitable (possibly destroying it as well).Eventually, the core will be hot enough for helium fusion; the Sun will burn helium for a fraction of the time it burned hydrogen in the core. The Sun is not massive enough to commence the fusion of heavier elements, and nuclear reactions in the core will dwindle. Its outer layers will be ejected into space, leaving behind a densewhite dwarf, half the original mass of the Sun but only the size of Earth.The ejected outer layers may form aplanetary nebula, returning some of the material that formed the Sun—but now enriched withheavier elementslike carbon—to the interstellar medium. .  Astronomers sometimes divide the Solar System structure into separate regions. Theinner Solar Systemincludes the Mercury, Venus, Earth, Mars and bodies in theasteroid belt. Theouter Solar Systemincludes the Jupiter, Saturn, Uranus, Neptune and bodies in theKuiper belt.Since the discovery of the Kuiper belt, the outermost parts of the Solar System are considered a distinct region consisting ofthe objects beyond Neptune. .  The principal component of the Solar System is the Sun, alow-mass starthat contains 99.86% of the system\\'s known mass and dominates it gravitationally.The Sun\\'s four largest orbiting bodies, the giant planets, account for 99% of the remaining mass, with Jupiter and Saturn together comprising more than 90%. The remaining objects of the Solar System (including the four terrestrial planets, the dwarf planets, moons,asteroids, and comets) together comprise less than 0.002% of the Solar System\\'s total mass. .  The Sun is composed of roughly 98% hydrogen and helium,as are Jupiter and Saturn.A composition gradient exists in the Solar System, created by heat andlight pressurefrom the early Sun; those objects closer to the Sun, which are more affected by heat and light pressure, are composed of elements with high melting points. Objects farther from the Sun are composed largely of materials with lower melting points.The boundary in the Solar System beyond which those volatile substances could coalesce is known as thefrost line, and it lies at roughly five times the Earth\\'s distance from the Sun. .  The planets and other large objects in orbit around the Sun lie near the plane of Earth\\'s orbit, known as theecliptic. Smaller icy objects such as comets frequently orbit at significantly greater angles to this plane.Most of the planets in the Solar System have secondary systems of their own, being orbited by natural satellites called moons. Many of the largest natural satellites are insynchronous rotation, with one face permanently turned toward their parent. The four giant planets have planetary rings, thin bands of tiny particles that orbit them in unison. .  As a result of theformation of the Solar System, planets and most other objects orbit the Sun in the same direction that the Sun is rotating. That is, counter-clockwise, as viewed from above Earth\\'s north pole.There are exceptions, such asHalley\\'s Comet.Most of the larger moons orbit their planets inprogradedirection, matching the planetary rotation; Neptune\\'s moonTritonis the largest to orbit in the opposite, retrograde manner.Most larger objects rotate around their own axes in the prograde direction relative to their orbit, though the rotation of Venus is retrograde. .  To a good first approximation,Kepler\\'s laws of planetary motiondescribe the orbits of objects around the Sun.:\\u200a433–437These laws stipulate that each object travels along anellipsewith the Sun at onefocus, which causes the body\\'s distance from the Sun to vary over the course of its year. A body\\'s closest approach to the Sun is called itsperihelion, whereas its most distant point from the Sun is called itsaphelion.:\\u200a9-6With the exception of Mercury, the orbits of the planets are nearly circular, but many comets, asteroids, and Kuiper belt objects follow highly elliptical orbits. Kepler\\'s laws only account for the influence of the Sun\\'s gravity upon an orbiting body, not the gravitational pulls of different bodies upon each other. On a human time scale, these perturbations can be accounted for usingnumerical models,:\\u200a9-6but the planetary system can change chaotically over billions of years. .  Theangular momentumof the Solar System is a measure of the total amount of orbital androtational momentumpossessed by all its moving components.Although the Sun dominates the system by mass, it accounts for only about 2% of the angular momentum.The planets, dominated by Jupiter, account for most of the rest of the angular momentum due to the combination of their mass, orbit, and distance from the Sun, with a possibly significant contribution from comets. .  Theastronomical unit (150,000,000\\xa0km; 93,000,000\\xa0mi) would be the distance from the Earth to the Sun if the planet\\'s orbit were perfectly circular.For comparison, the radius of the Sun is 0.0047\\xa0AU (700,000\\xa0km; 400,000\\xa0mi).Thus, the Sun occupies 0.00001% (10−5%) of the volume of a sphere with a radius the size of Earth\\'s orbit, whereas Earth\\'s volume is roughly one millionth (10−6) that of the Sun. Jupiter, the largest planet, is 5.2 astronomical units (780,000,000\\xa0km; 480,000,000\\xa0mi) from the Sun and has a radius of 71,000\\xa0km (0.00047\\xa0AU; 44,000\\xa0mi), whereas the most distant planet, Neptune, is 30\\xa0AU (4.5×109km; 2.8×109mi) from the Sun. .  With a few exceptions, the farther a planet or belt is from the Sun, the larger the distance between its orbit and the orbit of the next nearest object to the Sun. For example, Venus is approximately 0.33 AU farther out from the Sun than Mercury, whereas Saturn is 4.3 AU out from Jupiter, and Neptune lies 10.5 AU out from Uranus. Attempts have been made to determine a relationship between these orbital distances, like theTitius–Bode lawandJohannes Kepler\\'s modelbased on thePlatonic solids,but ongoing discoveries have invalidated these hypotheses. .  SomeSolar System modelsattempt to convey the relative scales involved in the Solar System in human terms. Some are small in scale (and may be mechanical—calledorreries)—whereas others extend across cities or regional areas.The largest such scale model, theSweden Solar System, uses the 110-metre (361\\xa0ft)Avicii ArenainStockholmas its substitute Sun, and, following the scale, Jupiter is a 7.5-metre (25-foot) sphere atStockholm Arlanda Airport, 40\\xa0km (25\\xa0mi) away, whereas the farthest current object,Sedna, is a 10\\xa0cm (4\\xa0in) sphere inLuleå, 912\\xa0km (567\\xa0mi) away. .  If the Sun–Neptune distance is scaled to 100 metres (330\\xa0ft), then the Sun would be about 3\\xa0cm (1.2\\xa0in) in diameter (roughly two-thirds the diameter of a golf ball), the giant planets would be all smaller than about 3\\xa0mm (0.12\\xa0in), andEarth\\'s diameteralong with that of the other terrestrial planets would be smaller than a flea (0.3\\xa0mm or 0.012\\xa0in) at this scale. .  Compared to many extrasolar systems, the Solar System stands out in lacking planets interior to the orbit of Mercury.There is a size \\'gap\\' between the largest terrestrial planet (Earth) and the smallest giant planet (Neptune, 3.8 times as large as Earth); elsewhereexoplanetsof intermediate size are typical. A hypothesis has arisen that all planetary systems start with many close-in planets, and that typically a sequence of their collisions causes consolidation of mass into few larger planets, but in case of the Solar System the collisions caused their destruction and ejection.The known Solar System also lackssuper-Earths, planets between one and ten times as massive as the Earth.The mass of a potentially habitable exoplanet is estimated to be 0.1–5.0 Earth masses. .  The orbits of Solar System planets are nearly circular. Compared to other systems, they have smallerorbital eccentricity.Although there are attempts to explain it partly with a bias in theradial-velocity detection methodand partly with long interactions of a quite high number of planets, the exact causes remain undetermined.Small orbital eccentricity lead to less drastic change in the planets\\' surface temperature and more stable condition for life to develop. .  Between the orbit of Venus and Mars is thehabitable zone, where there is just enough sunlight (and heat) for the planetary surface to haveliquid water.For comparison,TRAPPIST-1has seven planets orbiting to the parent star at a much closer distance (0.012–0.062\\xa0AU),however, because the parent star is ared dwarfthat has lowerluminositythan the Sun,its habitable zone is much closer and encompasses three or four planets.It is theorized that thesubsurface oceansof outer Solar System moons might be habitable due totidal heatingfrom the parent planets. .  Besides solar energy, the primary characteristic of the Solar System enabling the presence of life is the heliosphere and planetary magnetosphere. These magnetic fields partially shield the Solar System from high-energy interstellar particles calledcosmic rays. The density of cosmic rays in theinterstellar mediumand the strength of the Sun\\'s magnetic field change on very long timescales, so the level of cosmic-ray penetration in the Solar System varies, though by how much is unknown. .  The Sun is the Solar System\\'s star and by far its most massive component. Its large mass (332,900Earth masses),which comprises 99.86% of all the mass in the Solar System,produces temperatures and densities in itscorehigh enough to sustain nuclear fusion of hydrogen into helium.This releases an enormous amount ofenergy, mostlyradiatedintospaceaselectromagnetic radiationpeaking invisible light. .  Because the Sun fuses hydrogen into helium at itscore, it is a main-sequence star. More specifically, it is aG2-type main-sequence star, where the type designation refers to itseffective temperature. Hotter main-sequence stars are more luminous but shorter lived. The Sun\\'s temperature is intermediate between that of thehottest starsand that of the coolest stars. Stars brighter and hotter than the Sun are rare, whereas substantially dimmer and cooler stars, known asred dwarfs, make up about 75% of the stars in theMilky Way. .  The Sun is apopulation I star; it has a higher abundance of elements heavier than hydrogen and helium (\"metals\" in astronomical parlance) than the older population II stars.Elements heavier than hydrogen and helium were formed in the cores of ancient and exploding stars, so the first generation of stars had to die before theuniversecould be enriched with these atoms. The oldest stars contain few metals, whereas stars born later have more. This higher metallicity is thought to have been crucial to the Sun\\'s development of aplanetary systembecause the planets form from the accretion of \"metals\". .  The outermost layer of the Solar atmosphere is theheliosphere, which permeates much of the Solar System. Along withlight, the Sun radiates a continuous stream of charged particles (aplasma) called thesolar wind. This stream of particles spreads outwards at speeds from 900,000 kilometres per hour (560,000\\xa0mph) to 2,880,000 kilometres per hour (1,790,000\\xa0mph),filling the vacuum between the bodies of the Solar System. The result is athin, dusty atmosphere, called theinterplanetary medium, which extends to at least 100\\xa0AU (15\\xa0billion\\xa0km; 9.3\\xa0billion\\xa0mi). .  Activity on the Sun\\'s surface, such assolar flaresandcoronal mass ejections, disturbs the heliosphere, creatingspace weatherand causinggeomagnetic storms.Coronal mass ejections and similar events blow a magnetic field and huge quantities of material from the surface of the Sun. The interaction of this magnetic field and material with Earth\\'s magnetic field funnels charged particles into Earth\\'s upper atmosphere, where its interactions createauroraeseen near themagnetic poles.The largest stable structure within the heliosphere is theheliospheric current sheet, a spiral form created by the actions of the Sun\\'s rotating magnetic field on the interplanetary medium. .  The inner Solar System is the region comprising theterrestrial planetsand theasteroid belt.Composed mainly ofsilicatesand metals,the objects of the inner Solar System are relatively close to the Sun; the radius of this entire region is less than the distance between the orbits of Jupiter and Saturn. This region is within thefrost line, which is a little less than 5\\xa0AU (750\\xa0million\\xa0km; 460\\xa0million\\xa0mi) from the Sun. .  The four terrestrial or inner planets have dense, rocky compositions, few or nomoons, and noring systems. They are composed largely ofrefractoryminerals such assilicates—which form theircrustsandmantles—and metals such as iron and nickel which form theircores. Three of the four inner planets (Venus, Earth and Mars) haveatmospheressubstantial enough to generate weather; all have impact craters andtectonicsurface features, such asrift valleysand volcanoes. .  Asteroids except for the largest, Ceres, are classified assmall Solar System bodiesand are composed mainly ofcarbonaceous, refractory rocky and metallic minerals, with some ice.They range from a few metres to hundreds of kilometres in size.Asteroids are divided intoasteroid groupsandfamiliesbased on their orbital characteristics. Someasteroids have natural satellites that orbit them, that is, asteroids that orbit larger asteroids. .  Theasteroid beltoccupies the orbit between Mars and Jupiter, between 2.3 and 3.3\\xa0AU (340 and 490\\xa0million\\xa0km; 210 and 310\\xa0million\\xa0mi) from the Sun. It is thought to be remnants from the Solar System\\'s formation that failed to coalesce because of the gravitational interference of Jupiter.The asteroid belt contains tens of thousands, possibly millions, of objects over one kilometre in diameter.Despite this, the total mass of the asteroid belt is unlikely to be more than a thousandth of that of Earth.The asteroid belt is very sparsely populated; spacecraft routinely pass through without incident. .  Below are the descriptions of three largest bodies in the asteroid belt. They are all considered to be relatively intactprotoplanets, a precursor stage before becoming a fully-formed planet, and thus under significant scientific interest (seeList of exceptional asteroids): .  Below are some exemplar asteroid populations that are not in the asteroid belt and within Jupiter\\'s orbit (see also§\\xa0Centaurs, trojans and resonant bodies): .  The outer region of the Solar System is home to thegiant planetsand their large moons. Thecentaursand manyshort-period cometsorbit in this region. Due to their greater distance from the Sun, the solid objects in the outer Solar System contain a higher proportion of volatiles, such as water, ammonia, and methane than those of the inner Solar System because the lower temperatures allow these compounds to remain solid, without significant rates ofsublimation. .  The four outer planets, called giant planets or Jovian planets, collectively make up 99% of the mass known to orbit the Sun.All four giant planets have multiple moons and a ring system, although only Saturn\\'s rings are easily observed from Earth.Jupiter and Saturn are composed mainly of gases with extremely low melting points, such as hydrogen, helium, andneon,hence their designation asgas giants.Uranus and Neptune areice giants,meaning they are composed of\\'ice\\' in astronomy sense, as in chemical compounds with melting points of up to a few hundredkelvinssuch as water, methane, ammonia,hydrogen sulfide, andcarbon dioxide.Icy substances also comprise the majority of the satellites of the giant planets and small objects that lie beyond Neptune\\'s orbit. .  The centaurs are icy comet-like bodies whosesemi-major axesis greater than Jupiter\\'s and less than Neptune\\'s (between 5.5 and 30\\xa0AU). These are former Kuiper belt andscattered disc objects(SDOs) that were gravitationallyperturbedcloser to the Sun by the outer planets, and are expected to become comets or get ejected out of the Solar System.While most centaurs are inactive and asteroid-like, some exhibit clear cometary activity, such as the first centaur discovered,2060 Chiron, which has been classified as a comet (95P) because it develops a coma just as comets do when they approach the Sun.The largest known centaur,10199 Chariklo, has a diameter of about 250\\xa0km (160\\xa0mi) and is one of the only few minor planets known to possess a ring system. .  Jupiter trojansare located in both of Jupiter\\'s stableLagrange points:L4, 60° ahead of Jupiter in its orbit, orL5, 60° behind in its orbit.Hilda asteroidsare in a 3:2 resonance with Jupiter; that is, they go around the Sun three times for every two Jupiter orbits. .  Beyond the orbit of Neptune lies the area of the \"trans-Neptunian region\", with the doughnut-shaped Kuiper belt, home of Pluto and several other dwarf planets, and an overlapping disc of scattered objects, which istilted toward the planeof the Solar System and reaches much further out than the Kuiper belt. The entire region is stilllargely unexplored. It appears to consist overwhelmingly of many thousands of small worlds—the largest having a diameter only a fifth that of Earth and a mass far smaller than that of the Moon—composed mainly of rock and ice. This region is sometimes described as the \"third zone of the Solar System\", enclosing the inner and the outer Solar System. .  The Kuiper belt is a great ring of debris similar to the asteroid belt, but consisting mainly of objects composed primarily of ice.It extends between 30 and 50\\xa0AU from the Sun. It is composed mainly of small Solar System bodies, although the largest few are probably large enough to be dwarf planets.There are estimated to be over 100,000 Kuiper belt objects with a diameter greater than 50\\xa0km (30\\xa0mi), but the total mass of the Kuiper belt is thought to be only a tenth or even a hundredth the mass of Earth.Many Kuiper belt objects have satellites,and most have orbits that are substantially inclined (~10°) to the plane of the ecliptic. .  The Kuiper belt can be roughly divided into the \"classical\" belt and theresonant trans-Neptunian objects.The latter have orbits whose periods are in a simple ratio to that of Neptune: for example, going around the Sun twice for every three times that Neptune does, or once for every two. The classical belt consists of objects having no resonance with Neptune, and extends from roughly 39.4 to 47.7\\xa0AU.Members of the classical Kuiper belt are sometimes called \"cubewanos\", after the first of their kind to be discovered, originally designated1992 QB1; they are still in near primordial, low-eccentricity orbits. .  Currently, there arefour dwarf planets in the Kuiper beltthat have strong consensus among astronomers.Many dwarf planet candidates are being considered, pending further data for verification. .  The scattered disc, which overlaps the Kuiper belt but extends out to near 500\\xa0AU, is thought to be the source of short-period comets. Scattered-disc objects are believed to have been perturbed into erratic orbits by the gravitational influence ofNeptune\\'s early outward migration. Most scattered disc objects have perihelia within the Kuiper belt but aphelia far beyond it (some more than 150\\xa0AU from the Sun). SDOs\\' orbits can be inclined up to 46.8° from the ecliptic plane.Some astronomers consider the scattered disc to be merely another region of the Kuiper belt and describe scattered-disc objects as \"scattered Kuiper belt objects\".Some astronomers classify centaurs as inward-scattered Kuiper belt objects along with the outward-scattered residents of the scattered disc. .  Currently, there aretwo dwarf planets in the scattered discthat have strong consensus among astronomers: .  Some objects in the Solar System have a very large orbit, and therefore are much less affected by the known giant planets than other minor planet populations. These bodies are called extreme trans-Neptunian objects, or ETNOs for short.Generally, ETNOs\\'semi-major axisare at least 150–250 AU wide.For example,541132 Leleākūhonuaorbits the Sun once every ~32,000 years, with a distance of 65–2000\\xa0AU from the Sun. .  This population is divided into three subgroups by astronomers. ThescatteredETNOs haveperiheliaaround 38–45\\xa0AU and an exceptionally higheccentricityof more than 0.85. As with the regular scattered disc objects, they were likely formed as result ofgravitational scatteringby Neptune and still interact with the giant planets. ThedetachedETNOs, with perihelia approximately between 40–45 and 50–60\\xa0AU, are less affected by Neptune than the scattered ETNOs, but are still relatively close to Neptune. Thesednoidsorinner Oort cloudobjects, with perihelia beyond 50–60\\xa0AU, are too far from Neptune to be strongly influenced by it. .  Currently, there is one ETNO that is classified as a dwarf planet: .  The Sun\\'sstellar-wind bubble, theheliosphere, a region of space dominated by the Sun, has its boundary at thetermination shock, which is roughly 80–100\\xa0AU from the Sun upwind of the interstellar medium and roughly 200\\xa0AU from the Sun downwind.Here the solar wind collides with the interstellar mediumand dramatically slows, condenses and becomes more turbulent, forming a great oval structure known as theheliosheath. .  The heliosheath has been theorized to look and behave very much like a comet\\'s tail, extending outward for a further 40\\xa0AU on the upwind side but tailing many times that distance downwind.Evidence from theCassiniandInterstellar Boundary Explorerspacecraft has suggested that it is forced into a bubble shape by the constraining action of the interstellar magnetic field,but the actual shape remains unknown. .  The shape and form of the outer edge of the heliosphere is likely affected by thefluid dynamicsof interactions with the interstellar medium as well assolar magnetic fieldsprevailing to the south, e.g. it is bluntly shaped with the northern hemisphere extending 9\\xa0AU farther than the southern hemisphere.The heliopause is considered the beginning of the interstellar medium.Beyond the heliopause, at around 230 AU, lies thebow shock: a plasma \"wake\" left by the Sun as it travels through the Milky Way.Large objects outside the heliopause remain gravitationally bound to the sun, but the flow of matter in the interstellar medium homogenizes the distribution of micro-scale objects. .  Comets aresmall Solar System bodies, typically only a few kilometres across, composed largely of volatile ices. They have highly eccentric orbits, generally a perihelion within the orbits of the inner planets and an aphelion far beyond Pluto. When a comet enters the inner Solar System, its proximity to the Sun causes its icy surface tosublimateandionise, creating acoma: a long tail of gas and dust often visible to the naked eye. .  Short-period comets have orbits lasting less than two hundred years. Long-period comets have orbits lasting thousands of years. Short-period comets are thought to originate in the Kuiper belt, whereas long-period comets, such asHale–Bopp, are thought to originate in the Oort cloud. Many comet groups, such as theKreutz sungrazers, formed from the breakup of a single parent.Some comets withhyperbolicorbits may originate outside the Solar System, but determining their precise orbits is difficult.Old comets whose volatiles have mostly been driven out by solar warming are often categorised as asteroids. .  Solid objects smaller than one meter are usually called meteoroids and micrometeoroids (grain-sized), with the exact division between the two categories being debated over the years.By 2017, the IAU designates any solid object having a diameter between ~30micrometresand 1 metre as meteoroids, and depreciated the micrometeoroid categorization, instead terms smaller particles simply as \\'dust particles\\'. .  Some meteoroids formed via disintegration of comets and asteroids, while a few formed via impact debris ejected from planetary bodies. Most meteoroids are made of silicates and heavier metals likenickelandiron.When passing through the Solar System, comets produce a trail of meteoroids; it is hypothesized that this is caused either by vaporization of the comet\\'s material or by simple breakup of dormant comets. When crossing an atmosphere, these meteoroids will produce bright streaks in the sky due toatmospheric entry, calledmeteors. If a stream of meteoroids enter the atmosphere on parallel trajectories, meteor will seemingly \\'radiate\\' from a point in the sky, hence the phenomenon\\'s name:meteor shower. .  The inner Solar System is home to thezodiacal dust cloud. It causes the hazyzodiacal lightin the dark, unpolluted sky. It may have been formed by collisions within the asteroid belt brought on by gravitational interactions with the planets; a more recent proposed origin is materials from planet Mars.The outer Solar System also hosts a cosmic dust cloud. It extends from about 10\\xa0AU (1.5\\xa0billion\\xa0km; 930\\xa0million\\xa0mi) to about 40\\xa0AU (6.0\\xa0billion\\xa0km; 3.7\\xa0billion\\xa0mi), and was probably created by collisions within the Kuiper belt. .  Much of the Solar System is still unknown. Areas beyond thousands of AU away is still virtually unmapped and learning about this region of space is difficult. Study in this region depends upon inferences from those few objects whose orbits happen to be perturbed such that they fall closer to the Sun, and even then, detecting these objects has often been possible only when they happened to become bright enough to register as comets.Many objects may yet be discovered in the Solar System\\'s uncharted regions. .  One of these objects might be theOort cloud, a theorized spherical cloud of up to a trillion icy objects that is thought to be the source for all long-period comets.No direct observation of the Oort cloud is possible with present imaging technology.It is theorized to surround the Solar System at roughly 50,000\\xa0AU (~0.9ly) from the Sun and possibly to as far as 100,000\\xa0AU (~1.8\\xa0ly). The Oort cloud is thought to be composed of comets that were ejected from the inner Solar System by gravitational interactions with the outer planets. Oort cloud objects move very slowly, and can be perturbed by infrequent events, such as collisions, the gravitational effects of a passing star, or thegalactic tide, thetidal forceexerted by the Milky Way. .  As of the 2020s, a few astronomers hypothesized thatPlanet Nine(a planet beyond Neptune) might exist, based on statistical variance in the orbit ofextreme trans-Neptunian objects.Their closest approaches to the Sun are mostly clustered around one sector and their orbits are similarly tilted, suggesting that a large planet might be influencing their orbit over millions of years.However, some astronomers said that this observation might be credited to observational biases or just sheer coincidence. .  The Sun\\'s gravitational field is estimated todominate the gravitational forces of surrounding starsout to about two light-years (125,000\\xa0AU). Lower estimates for the radius of the Oort cloud, by contrast, do not place it farther than50,000\\xa0AU.Most of the mass is orbiting in the region between 3,000 and100,000\\xa0AU.The furthest known objects, such asComet West, have aphelia around70,000\\xa0AUfrom the Sun.The Sun\\'sHill spherewith respect to the galactic nucleus, the effective range of its gravitational influence, is thought to extend up to a thousand times farther and encompasses the hypothetical Oort cloud. .  Within ten light-years of the Sun there are relatively few stars, the closest being the triple star systemAlpha Centauri, which is about 4.4 light-years away and may be in the Local Bubble\\'sG-Cloud.Alpha Centauri A and B are a closely tied pair ofSun-like stars, whereas the closest star to Earth, the smallred dwarfProxima Centauri, orbits the pair at a distance of 0.2 light-year. In 2016, a potentially habitableexoplanetwas found to be orbiting Proxima Centauri, calledProxima Centauri b, the closest confirmed exoplanet to the Sun. .  The Solar System is surrounded by theLocal Interstellar Cloud, although it is not clear if it is embedded in the Local Interstellar Cloud or if it lies just outside the cloud\\'s edge.Multiple otherinterstellar cloudsexist in the region within 300 light-years of the Sun, known as theLocal Bubble.The latter feature is an hourglass-shaped cavity orsuperbubblein the interstellar medium roughly 300 light-years across. The bubble is suffused with high-temperature plasma, suggesting that it may be the product of several recent supernovae. .  The Local Bubble is a small superbubble compared to the neighboring widerRadcliffe WaveandSplitlinear structures (formerlyGould Belt), each of which are some thousands of light-years in length.All these structures are part of theOrion Arm, which contains most of the stars in the Milky Way that are visible to the unaided eye. .  Thenearestand unaided-visible group of stars beyond the immediate celestial neighborhood is theUrsa Major moving groupat roughly 80 light-years, which is within the Local Bubble, like the nearest as well as unaided-visiblestar clustertheHyades, which lie at its edge. The closest star-forming regions are theCorona Australis Molecular Cloud, theRho Ophiuchi cloud complexand theTaurus molecular cloud; the latter lies just beyond the Local Bubble and is part of the Radcliffe wave. .  Stellar flybys that pass within 0.8 light-years of the Sun occur roughly once every 100,000\\xa0years. Theclosest well-measured approachwasScholz\\'s Star, which approached to ~50,000\\xa0AUof the Sun some ~70 thousands years ago, likely passing through the outer Oort cloud.There is a 1% chance every billion years that a star will pass within100\\xa0AUof the Sun, potentially disrupting the Solar System. .  The Solar System is located in theMilky Way, abarred spiral galaxywith a diameter of about 100,000light-yearscontaining more than 100\\xa0billion stars.The Sun is part of one of the Milky Way\\'s outer spiral arms, known as theOrion–Cygnus Armor Local Spur. .  Its speed around the center of the Milky Way is about 220\\xa0km/s, so that it completes one revolution every 240\\xa0million years.This revolution is known as the Solar System\\'sgalactic year.Thesolar apex, the direction of the Sun\\'s path through interstellar space, is near the constellationHerculesin the direction of the current location of the bright starVega.The plane of the ecliptic lies at an angle of about 60° to thegalactic plane. .  The Sun follows a nearly circular orbit around theGalactic Center(where thesupermassive black holeSagittarius A*resides) at a distance of 26,660 light-years,orbiting at roughly the same speed as that of the spiral arms.If it orbited close to the center, gravitational tugs from nearby stars could perturb bodies in theOort cloudand send many comets into the inner Solar System, producing collisions with potentially catastrophic implications for life on Earth. In this scenario, the intense radiation of the Galactic Center could interfere with the development of complex life. .  The Solar System\\'s location in the Milky Way is a factor in theevolutionary history of lifeon Earth. Spiral arms are home to a far larger concentration ofsupernovae, gravitational instabilities, and radiation that could disrupt the Solar System, but since Earth stays in the Local Spur and therefore does not pass frequently through spiral arms, this has given Earth long periods of stability for life to evolve.However, according to the controversialShiva hypothesis, the changing position of the Solar System relative to other parts of the Milky Way could explain periodicextinction eventson Earth. .  Humanity\\'s knowledge of the Solar System has grown incrementally over the centuries. Up to theLate Middle Ages–Renaissance, astronomers from Europe to India believed Earth tobe stationary at the centerof the universeand categorically different from the divine or ethereal objects that moved through the sky. Although theGreekphilosopherAristarchus of Samoshad speculated on aheliocentricreordering of the cosmos,Nicolaus Copernicuswas the first person known to have developeda mathematically predictive heliocentric system. .  Heliocentrism did not triumph immediately over geocentrism, but the work of Copernicus had its champions, notablyJohannes Kepler. Using a heliocentric model that improved upon Copernicus by allowing orbits to be elliptical, and the precise observational data ofTycho Brahe, Kepler produced theRudolphine Tables, which enabled accurate computations of the positions of the then-known planets.Pierre Gassendiused them to predict atransit of Mercuryin 1631, andJeremiah Horrocksdid the same for atransit of Venusin 1639. This provided a strong vindication of heliocentrism and Kepler\\'s elliptical orbits. .  In the 17th century,Galileopublicized the use of the telescope in astronomy; he andSimon Mariusindependently discovered that Jupiter had four satellites in orbit around it.Christiaan Huygensfollowed on from these observations by discovering Saturn\\'s moonTitanand the shape of therings of Saturn.In 1677,Edmond Halleyobserved a transit of Mercury across the Sun, leading him to realize that observations of thesolar parallaxof a planet (more ideally using the transit of Venus) could be used totrigonometricallydetermine the distances between Earth,Venus, and the Sun.Halley\\'s friendIsaac Newton, in his magisterialPrincipia Mathematicaof 1687, demonstrated that celestial bodies are not quintessentially different from Earthly ones: the samelaws of motionand ofgravityapply on Earth and in the skies.:\\u200a142 .  The term \"Solar System\" entered the English language by 1704, whenJohn Lockeused it to refer to the Sun, planets, and comets.In 1705, Halley realized that repeated sightings ofa cometwere of the same object, returning regularly once every 75–76\\xa0years. This was the first evidence that anything other than the planets repeatedly orbited the Sun,thoughSenecahad theorized this about comets in the 1st century.Careful observations of the 1769 transit of Venus allowed astronomers to calculate the average Earth–Sun distance as 93,726,900 miles (150,838,800\\xa0km), only 0.8% greater than the modern value. .  Uranus, having occasionally been observed since antiquity, was recognized to be a planet orbiting beyond Saturn by 1783.In 1838,Friedrich Besselsuccessfully measured astellar parallax, an apparent shift in the position of a star created by Earth\\'s motion around the Sun, providing the first direct, experimental proof of heliocentrism.Neptunewas identified as a planet some years later, in 1846, thanks to its gravitational pull causing a slight but detectable variation in the orbit of Uranus.Mercury\\'s orbital anomalyobservations led to searches forVulcan, a planet interior of Mercury, but these attempts were quashed withAlbert Einstein\\'s theory ofgeneral relativityin 1915. .  In the 20th century, humans began their space exploration around the Solar System, starting with placingtelescopes in spacesince the 1960s.By 1989, all eight planets have been visited by space probes.Probes have returned samples from cometsand asteroids,as well as flown through theSun\\'s coronaand visited two dwarf planets (PlutoandCeres).Humans have landed on the Moon during theApollo programin the 1960s and 1970sand will return to the Moon in the 2020s with theArtemis program.Discoveries in the 20th and 21st century has prompted theredefinition of the termplanetin 2006, hence the demotion of Pluto to a dwarf planet,and further interest intrans-Neptunian objects. .  Usingin-space propulsion, there are many ways to deliver an object to bodies in the Solar System. Time is a key factor in all transfer maneuvers; depending on the mission parameters, thelaunch windowcan range from a few minutes to a few weeks. .  A simple and efficient way is to make use of theHohmann transfer orbit, which involves two maneuvers: the first maneuver make the spacecraft\\'s orbit touches with the target body\\'s orbit, and another maneuver move the spacecraft to the desired orbit around the target body.Variants of the Hohmann transfer maneuver (such as the generalizedbi-elliptic transferandcontinuous low thrust version) are used in many missions to Mars and other planets. .  To save on fuel, some space missions make use ofgravity assist maneuvers, such as the twoVoyagerprobesaccelerating when flyby planets in the outer Solar Systemand theParker Solar Probedecelerating closer towards the Sun after flyby with Venus.When a spacecraft flyby a planet, itsvelocitycan be decomposed to two components: the planet\\'s relative motion to the Sun and the spacecraft\\'s \"own\" motion. The direction of the spacecraft\\'s motion component is affected, resulting in change in the spacecraft\\'s velocity and consequently change in its orbit. .  Even more complicated maneuvers that make use of Lagrange points andaerobrakingdo exist, and in practice, mission maneuvers are calculated with the use of computer programs and anaccurate Solar System model. .  Solar System→Local Interstellar Cloud→Local Bubble→Gould Belt→Orion Arm→Milky Way→Milky Way subgroup→Local Group→Local Sheet→Virgo Supercluster→Laniakea Supercluster→Local Hole→Observable universe→UniverseEach arrow (→) may be read as \"within\" or \"part of\".'"
            ],
            "application/vnd.google.colaboratory.intrinsic+json": {
              "type": "string"
            }
          },
          "metadata": {},
          "execution_count": 67
        }
      ],
      "source": [
        "text"
      ]
    },
    {
      "cell_type": "code",
      "execution_count": null,
      "metadata": {
        "id": "9AGfSI7xPnhk",
        "colab": {
          "base_uri": "https://localhost:8080/"
        },
        "outputId": "548bd33b-7de7-4713-83f8-926d7fdf8646"
      },
      "outputs": [
        {
          "output_type": "stream",
          "name": "stdout",
          "text": [
            "Answer: 4.568 billion years ago\n"
          ]
        }
      ],
      "source": [
        "context = text\n",
        "question = \"The Solar System was formed?\"\n",
        "\n",
        "# Use the pipeline to answer the question\n",
        "result = nlp(question=question, context=context, padding=\"max_length\", truncation=True)\n",
        "\n",
        "print(\"Answer:\", result['answer'])"
      ]
    },
    {
      "cell_type": "markdown",
      "metadata": {
        "id": "z3BaFAMKdC4n"
      },
      "source": [
        "##Gradio"
      ]
    },
    {
      "cell_type": "code",
      "execution_count": null,
      "metadata": {
        "id": "7ZGglrE6dCKF",
        "colab": {
          "base_uri": "https://localhost:8080/",
          "height": 646
        },
        "outputId": "0f5af99e-8af5-402f-883b-c69ca851cbd2"
      },
      "outputs": [
        {
          "output_type": "stream",
          "name": "stdout",
          "text": [
            "Setting queue=True in a Colab notebook requires sharing enabled. Setting `share=True` (you can turn this off by setting `share=False` in `launch()` explicitly).\n",
            "\n",
            "Colab notebook detected. To show errors in colab notebook, set debug=True in launch()\n",
            "Running on public URL: https://0bac8a607a35e89c97.gradio.live\n",
            "\n",
            "This share link expires in 72 hours. For free permanent hosting and GPU upgrades, run `gradio deploy` from Terminal to deploy to Spaces (https://huggingface.co/spaces)\n"
          ]
        },
        {
          "output_type": "display_data",
          "data": {
            "text/plain": [
              "<IPython.core.display.HTML object>"
            ],
            "text/html": [
              "<div><iframe src=\"https://0bac8a607a35e89c97.gradio.live\" width=\"100%\" height=\"500\" allow=\"autoplay; camera; microphone; clipboard-read; clipboard-write;\" frameborder=\"0\" allowfullscreen></iframe></div>"
            ]
          },
          "metadata": {}
        },
        {
          "output_type": "execute_result",
          "data": {
            "text/plain": []
          },
          "metadata": {},
          "execution_count": 71
        }
      ],
      "source": [
        "import gradio as gr\n",
        "import pandas as pd\n",
        "import plotly.express as px\n",
        "pd.set_option('display.max_colwidth', 0)\n",
        "\n",
        "\n",
        "\n",
        "def answer(input,url):\n",
        "    text = extract_text_from_url(url)\n",
        "    context = clean_text_basic(text)\n",
        "\n",
        "    result = nlp(question=input, context=context, padding=\"max_length\", truncation=True)\n",
        "    return result['answer']\n",
        "\n",
        "with  gr.Blocks() as iface:\n",
        "    md = gr.Markdown(\n",
        "      \"\"\"\n",
        "      # Hello World!\n",
        "      Find the data in your url. =))\n",
        "      \"\"\")\n",
        "    url = gr.Textbox(placeholder=\"Please input your url to crawl data.\",label=\"Url\")\n",
        "    inp = gr.Textbox(placeholder=\"Please input your questions.\",label=\"Question\")\n",
        "\n",
        "    btn = gr.Button(\"Submit\")\n",
        "    out = gr.Textbox(placeholder=\"Your answer here.\",label=\"Answer\")\n",
        "    btn.click(fn=answer, inputs=[inp,url], outputs=out)\n",
        "\n",
        "iface.launch()\n",
        "\n",
        "\n"
      ]
    }
  ],
  "metadata": {
    "accelerator": "GPU",
    "colab": {
      "gpuType": "T4",
      "provenance": []
    },
    "kernelspec": {
      "display_name": "Python 3",
      "name": "python3"
    },
    "language_info": {
      "name": "python"
    },
    "widgets": {
      "application/vnd.jupyter.widget-state+json": {
        "2612f5e4cb9e4eeb90e59ca1cb2aa3e8": {
          "model_module": "@jupyter-widgets/controls",
          "model_name": "HBoxModel",
          "model_module_version": "1.5.0",
          "state": {
            "_dom_classes": [],
            "_model_module": "@jupyter-widgets/controls",
            "_model_module_version": "1.5.0",
            "_model_name": "HBoxModel",
            "_view_count": null,
            "_view_module": "@jupyter-widgets/controls",
            "_view_module_version": "1.5.0",
            "_view_name": "HBoxView",
            "box_style": "",
            "children": [
              "IPY_MODEL_ed9577b0d46e40a5be9c935c141ebe76",
              "IPY_MODEL_dcc2014841f94bfda4ef39342f53e1a1",
              "IPY_MODEL_2bc8eea2089c473c99c282984ecff562"
            ],
            "layout": "IPY_MODEL_0c034c9f6acb4989b50f3d9bdc6ab9ca"
          }
        },
        "ed9577b0d46e40a5be9c935c141ebe76": {
          "model_module": "@jupyter-widgets/controls",
          "model_name": "HTMLModel",
          "model_module_version": "1.5.0",
          "state": {
            "_dom_classes": [],
            "_model_module": "@jupyter-widgets/controls",
            "_model_module_version": "1.5.0",
            "_model_name": "HTMLModel",
            "_view_count": null,
            "_view_module": "@jupyter-widgets/controls",
            "_view_module_version": "1.5.0",
            "_view_name": "HTMLView",
            "description": "",
            "description_tooltip": null,
            "layout": "IPY_MODEL_c977dd09ada842f9b20ca559ede862b4",
            "placeholder": "​",
            "style": "IPY_MODEL_d94e386fa52540ddae124e220a257d13",
            "value": "tokenizer_config.json: 100%"
          }
        },
        "dcc2014841f94bfda4ef39342f53e1a1": {
          "model_module": "@jupyter-widgets/controls",
          "model_name": "FloatProgressModel",
          "model_module_version": "1.5.0",
          "state": {
            "_dom_classes": [],
            "_model_module": "@jupyter-widgets/controls",
            "_model_module_version": "1.5.0",
            "_model_name": "FloatProgressModel",
            "_view_count": null,
            "_view_module": "@jupyter-widgets/controls",
            "_view_module_version": "1.5.0",
            "_view_name": "ProgressView",
            "bar_style": "success",
            "description": "",
            "description_tooltip": null,
            "layout": "IPY_MODEL_11084c9f4eec4923a0b773d98d0ed927",
            "max": 48,
            "min": 0,
            "orientation": "horizontal",
            "style": "IPY_MODEL_94eff0e7e49b4af1879c110886f15696",
            "value": 48
          }
        },
        "2bc8eea2089c473c99c282984ecff562": {
          "model_module": "@jupyter-widgets/controls",
          "model_name": "HTMLModel",
          "model_module_version": "1.5.0",
          "state": {
            "_dom_classes": [],
            "_model_module": "@jupyter-widgets/controls",
            "_model_module_version": "1.5.0",
            "_model_name": "HTMLModel",
            "_view_count": null,
            "_view_module": "@jupyter-widgets/controls",
            "_view_module_version": "1.5.0",
            "_view_name": "HTMLView",
            "description": "",
            "description_tooltip": null,
            "layout": "IPY_MODEL_cfd831a5dd7740fd962f30362513b6e5",
            "placeholder": "​",
            "style": "IPY_MODEL_b77768475b244825889c8665076c6b46",
            "value": " 48.0/48.0 [00:00&lt;00:00, 2.53kB/s]"
          }
        },
        "0c034c9f6acb4989b50f3d9bdc6ab9ca": {
          "model_module": "@jupyter-widgets/base",
          "model_name": "LayoutModel",
          "model_module_version": "1.2.0",
          "state": {
            "_model_module": "@jupyter-widgets/base",
            "_model_module_version": "1.2.0",
            "_model_name": "LayoutModel",
            "_view_count": null,
            "_view_module": "@jupyter-widgets/base",
            "_view_module_version": "1.2.0",
            "_view_name": "LayoutView",
            "align_content": null,
            "align_items": null,
            "align_self": null,
            "border": null,
            "bottom": null,
            "display": null,
            "flex": null,
            "flex_flow": null,
            "grid_area": null,
            "grid_auto_columns": null,
            "grid_auto_flow": null,
            "grid_auto_rows": null,
            "grid_column": null,
            "grid_gap": null,
            "grid_row": null,
            "grid_template_areas": null,
            "grid_template_columns": null,
            "grid_template_rows": null,
            "height": null,
            "justify_content": null,
            "justify_items": null,
            "left": null,
            "margin": null,
            "max_height": null,
            "max_width": null,
            "min_height": null,
            "min_width": null,
            "object_fit": null,
            "object_position": null,
            "order": null,
            "overflow": null,
            "overflow_x": null,
            "overflow_y": null,
            "padding": null,
            "right": null,
            "top": null,
            "visibility": null,
            "width": null
          }
        },
        "c977dd09ada842f9b20ca559ede862b4": {
          "model_module": "@jupyter-widgets/base",
          "model_name": "LayoutModel",
          "model_module_version": "1.2.0",
          "state": {
            "_model_module": "@jupyter-widgets/base",
            "_model_module_version": "1.2.0",
            "_model_name": "LayoutModel",
            "_view_count": null,
            "_view_module": "@jupyter-widgets/base",
            "_view_module_version": "1.2.0",
            "_view_name": "LayoutView",
            "align_content": null,
            "align_items": null,
            "align_self": null,
            "border": null,
            "bottom": null,
            "display": null,
            "flex": null,
            "flex_flow": null,
            "grid_area": null,
            "grid_auto_columns": null,
            "grid_auto_flow": null,
            "grid_auto_rows": null,
            "grid_column": null,
            "grid_gap": null,
            "grid_row": null,
            "grid_template_areas": null,
            "grid_template_columns": null,
            "grid_template_rows": null,
            "height": null,
            "justify_content": null,
            "justify_items": null,
            "left": null,
            "margin": null,
            "max_height": null,
            "max_width": null,
            "min_height": null,
            "min_width": null,
            "object_fit": null,
            "object_position": null,
            "order": null,
            "overflow": null,
            "overflow_x": null,
            "overflow_y": null,
            "padding": null,
            "right": null,
            "top": null,
            "visibility": null,
            "width": null
          }
        },
        "d94e386fa52540ddae124e220a257d13": {
          "model_module": "@jupyter-widgets/controls",
          "model_name": "DescriptionStyleModel",
          "model_module_version": "1.5.0",
          "state": {
            "_model_module": "@jupyter-widgets/controls",
            "_model_module_version": "1.5.0",
            "_model_name": "DescriptionStyleModel",
            "_view_count": null,
            "_view_module": "@jupyter-widgets/base",
            "_view_module_version": "1.2.0",
            "_view_name": "StyleView",
            "description_width": ""
          }
        },
        "11084c9f4eec4923a0b773d98d0ed927": {
          "model_module": "@jupyter-widgets/base",
          "model_name": "LayoutModel",
          "model_module_version": "1.2.0",
          "state": {
            "_model_module": "@jupyter-widgets/base",
            "_model_module_version": "1.2.0",
            "_model_name": "LayoutModel",
            "_view_count": null,
            "_view_module": "@jupyter-widgets/base",
            "_view_module_version": "1.2.0",
            "_view_name": "LayoutView",
            "align_content": null,
            "align_items": null,
            "align_self": null,
            "border": null,
            "bottom": null,
            "display": null,
            "flex": null,
            "flex_flow": null,
            "grid_area": null,
            "grid_auto_columns": null,
            "grid_auto_flow": null,
            "grid_auto_rows": null,
            "grid_column": null,
            "grid_gap": null,
            "grid_row": null,
            "grid_template_areas": null,
            "grid_template_columns": null,
            "grid_template_rows": null,
            "height": null,
            "justify_content": null,
            "justify_items": null,
            "left": null,
            "margin": null,
            "max_height": null,
            "max_width": null,
            "min_height": null,
            "min_width": null,
            "object_fit": null,
            "object_position": null,
            "order": null,
            "overflow": null,
            "overflow_x": null,
            "overflow_y": null,
            "padding": null,
            "right": null,
            "top": null,
            "visibility": null,
            "width": null
          }
        },
        "94eff0e7e49b4af1879c110886f15696": {
          "model_module": "@jupyter-widgets/controls",
          "model_name": "ProgressStyleModel",
          "model_module_version": "1.5.0",
          "state": {
            "_model_module": "@jupyter-widgets/controls",
            "_model_module_version": "1.5.0",
            "_model_name": "ProgressStyleModel",
            "_view_count": null,
            "_view_module": "@jupyter-widgets/base",
            "_view_module_version": "1.2.0",
            "_view_name": "StyleView",
            "bar_color": null,
            "description_width": ""
          }
        },
        "cfd831a5dd7740fd962f30362513b6e5": {
          "model_module": "@jupyter-widgets/base",
          "model_name": "LayoutModel",
          "model_module_version": "1.2.0",
          "state": {
            "_model_module": "@jupyter-widgets/base",
            "_model_module_version": "1.2.0",
            "_model_name": "LayoutModel",
            "_view_count": null,
            "_view_module": "@jupyter-widgets/base",
            "_view_module_version": "1.2.0",
            "_view_name": "LayoutView",
            "align_content": null,
            "align_items": null,
            "align_self": null,
            "border": null,
            "bottom": null,
            "display": null,
            "flex": null,
            "flex_flow": null,
            "grid_area": null,
            "grid_auto_columns": null,
            "grid_auto_flow": null,
            "grid_auto_rows": null,
            "grid_column": null,
            "grid_gap": null,
            "grid_row": null,
            "grid_template_areas": null,
            "grid_template_columns": null,
            "grid_template_rows": null,
            "height": null,
            "justify_content": null,
            "justify_items": null,
            "left": null,
            "margin": null,
            "max_height": null,
            "max_width": null,
            "min_height": null,
            "min_width": null,
            "object_fit": null,
            "object_position": null,
            "order": null,
            "overflow": null,
            "overflow_x": null,
            "overflow_y": null,
            "padding": null,
            "right": null,
            "top": null,
            "visibility": null,
            "width": null
          }
        },
        "b77768475b244825889c8665076c6b46": {
          "model_module": "@jupyter-widgets/controls",
          "model_name": "DescriptionStyleModel",
          "model_module_version": "1.5.0",
          "state": {
            "_model_module": "@jupyter-widgets/controls",
            "_model_module_version": "1.5.0",
            "_model_name": "DescriptionStyleModel",
            "_view_count": null,
            "_view_module": "@jupyter-widgets/base",
            "_view_module_version": "1.2.0",
            "_view_name": "StyleView",
            "description_width": ""
          }
        },
        "1a545e98e22a4662b5c1b0a474cdcd01": {
          "model_module": "@jupyter-widgets/controls",
          "model_name": "HBoxModel",
          "model_module_version": "1.5.0",
          "state": {
            "_dom_classes": [],
            "_model_module": "@jupyter-widgets/controls",
            "_model_module_version": "1.5.0",
            "_model_name": "HBoxModel",
            "_view_count": null,
            "_view_module": "@jupyter-widgets/controls",
            "_view_module_version": "1.5.0",
            "_view_name": "HBoxView",
            "box_style": "",
            "children": [
              "IPY_MODEL_29659316e14a4e8c8cd723a43b217f40",
              "IPY_MODEL_b65311e01c504e4eaa02760f6183c173",
              "IPY_MODEL_f4486c17fc714a768f5af5b0276228de"
            ],
            "layout": "IPY_MODEL_bda5827d497447fd83c54156c05b83f2"
          }
        },
        "29659316e14a4e8c8cd723a43b217f40": {
          "model_module": "@jupyter-widgets/controls",
          "model_name": "HTMLModel",
          "model_module_version": "1.5.0",
          "state": {
            "_dom_classes": [],
            "_model_module": "@jupyter-widgets/controls",
            "_model_module_version": "1.5.0",
            "_model_name": "HTMLModel",
            "_view_count": null,
            "_view_module": "@jupyter-widgets/controls",
            "_view_module_version": "1.5.0",
            "_view_name": "HTMLView",
            "description": "",
            "description_tooltip": null,
            "layout": "IPY_MODEL_9b2c7700e5f8459dada98f80fb3bc233",
            "placeholder": "​",
            "style": "IPY_MODEL_42d453c47f134b4996a91abf46872c78",
            "value": "vocab.txt: 100%"
          }
        },
        "b65311e01c504e4eaa02760f6183c173": {
          "model_module": "@jupyter-widgets/controls",
          "model_name": "FloatProgressModel",
          "model_module_version": "1.5.0",
          "state": {
            "_dom_classes": [],
            "_model_module": "@jupyter-widgets/controls",
            "_model_module_version": "1.5.0",
            "_model_name": "FloatProgressModel",
            "_view_count": null,
            "_view_module": "@jupyter-widgets/controls",
            "_view_module_version": "1.5.0",
            "_view_name": "ProgressView",
            "bar_style": "success",
            "description": "",
            "description_tooltip": null,
            "layout": "IPY_MODEL_ef31e9310b1f49098449f6833ce6f48c",
            "max": 231508,
            "min": 0,
            "orientation": "horizontal",
            "style": "IPY_MODEL_5fd829e7803a4eb18f52aca215f437bd",
            "value": 231508
          }
        },
        "f4486c17fc714a768f5af5b0276228de": {
          "model_module": "@jupyter-widgets/controls",
          "model_name": "HTMLModel",
          "model_module_version": "1.5.0",
          "state": {
            "_dom_classes": [],
            "_model_module": "@jupyter-widgets/controls",
            "_model_module_version": "1.5.0",
            "_model_name": "HTMLModel",
            "_view_count": null,
            "_view_module": "@jupyter-widgets/controls",
            "_view_module_version": "1.5.0",
            "_view_name": "HTMLView",
            "description": "",
            "description_tooltip": null,
            "layout": "IPY_MODEL_070bf0ceafa7469ead6828bf5bf28ad3",
            "placeholder": "​",
            "style": "IPY_MODEL_6e98c2910d0f42dfba4afaeeecf3da5f",
            "value": " 232k/232k [00:00&lt;00:00, 3.17MB/s]"
          }
        },
        "bda5827d497447fd83c54156c05b83f2": {
          "model_module": "@jupyter-widgets/base",
          "model_name": "LayoutModel",
          "model_module_version": "1.2.0",
          "state": {
            "_model_module": "@jupyter-widgets/base",
            "_model_module_version": "1.2.0",
            "_model_name": "LayoutModel",
            "_view_count": null,
            "_view_module": "@jupyter-widgets/base",
            "_view_module_version": "1.2.0",
            "_view_name": "LayoutView",
            "align_content": null,
            "align_items": null,
            "align_self": null,
            "border": null,
            "bottom": null,
            "display": null,
            "flex": null,
            "flex_flow": null,
            "grid_area": null,
            "grid_auto_columns": null,
            "grid_auto_flow": null,
            "grid_auto_rows": null,
            "grid_column": null,
            "grid_gap": null,
            "grid_row": null,
            "grid_template_areas": null,
            "grid_template_columns": null,
            "grid_template_rows": null,
            "height": null,
            "justify_content": null,
            "justify_items": null,
            "left": null,
            "margin": null,
            "max_height": null,
            "max_width": null,
            "min_height": null,
            "min_width": null,
            "object_fit": null,
            "object_position": null,
            "order": null,
            "overflow": null,
            "overflow_x": null,
            "overflow_y": null,
            "padding": null,
            "right": null,
            "top": null,
            "visibility": null,
            "width": null
          }
        },
        "9b2c7700e5f8459dada98f80fb3bc233": {
          "model_module": "@jupyter-widgets/base",
          "model_name": "LayoutModel",
          "model_module_version": "1.2.0",
          "state": {
            "_model_module": "@jupyter-widgets/base",
            "_model_module_version": "1.2.0",
            "_model_name": "LayoutModel",
            "_view_count": null,
            "_view_module": "@jupyter-widgets/base",
            "_view_module_version": "1.2.0",
            "_view_name": "LayoutView",
            "align_content": null,
            "align_items": null,
            "align_self": null,
            "border": null,
            "bottom": null,
            "display": null,
            "flex": null,
            "flex_flow": null,
            "grid_area": null,
            "grid_auto_columns": null,
            "grid_auto_flow": null,
            "grid_auto_rows": null,
            "grid_column": null,
            "grid_gap": null,
            "grid_row": null,
            "grid_template_areas": null,
            "grid_template_columns": null,
            "grid_template_rows": null,
            "height": null,
            "justify_content": null,
            "justify_items": null,
            "left": null,
            "margin": null,
            "max_height": null,
            "max_width": null,
            "min_height": null,
            "min_width": null,
            "object_fit": null,
            "object_position": null,
            "order": null,
            "overflow": null,
            "overflow_x": null,
            "overflow_y": null,
            "padding": null,
            "right": null,
            "top": null,
            "visibility": null,
            "width": null
          }
        },
        "42d453c47f134b4996a91abf46872c78": {
          "model_module": "@jupyter-widgets/controls",
          "model_name": "DescriptionStyleModel",
          "model_module_version": "1.5.0",
          "state": {
            "_model_module": "@jupyter-widgets/controls",
            "_model_module_version": "1.5.0",
            "_model_name": "DescriptionStyleModel",
            "_view_count": null,
            "_view_module": "@jupyter-widgets/base",
            "_view_module_version": "1.2.0",
            "_view_name": "StyleView",
            "description_width": ""
          }
        },
        "ef31e9310b1f49098449f6833ce6f48c": {
          "model_module": "@jupyter-widgets/base",
          "model_name": "LayoutModel",
          "model_module_version": "1.2.0",
          "state": {
            "_model_module": "@jupyter-widgets/base",
            "_model_module_version": "1.2.0",
            "_model_name": "LayoutModel",
            "_view_count": null,
            "_view_module": "@jupyter-widgets/base",
            "_view_module_version": "1.2.0",
            "_view_name": "LayoutView",
            "align_content": null,
            "align_items": null,
            "align_self": null,
            "border": null,
            "bottom": null,
            "display": null,
            "flex": null,
            "flex_flow": null,
            "grid_area": null,
            "grid_auto_columns": null,
            "grid_auto_flow": null,
            "grid_auto_rows": null,
            "grid_column": null,
            "grid_gap": null,
            "grid_row": null,
            "grid_template_areas": null,
            "grid_template_columns": null,
            "grid_template_rows": null,
            "height": null,
            "justify_content": null,
            "justify_items": null,
            "left": null,
            "margin": null,
            "max_height": null,
            "max_width": null,
            "min_height": null,
            "min_width": null,
            "object_fit": null,
            "object_position": null,
            "order": null,
            "overflow": null,
            "overflow_x": null,
            "overflow_y": null,
            "padding": null,
            "right": null,
            "top": null,
            "visibility": null,
            "width": null
          }
        },
        "5fd829e7803a4eb18f52aca215f437bd": {
          "model_module": "@jupyter-widgets/controls",
          "model_name": "ProgressStyleModel",
          "model_module_version": "1.5.0",
          "state": {
            "_model_module": "@jupyter-widgets/controls",
            "_model_module_version": "1.5.0",
            "_model_name": "ProgressStyleModel",
            "_view_count": null,
            "_view_module": "@jupyter-widgets/base",
            "_view_module_version": "1.2.0",
            "_view_name": "StyleView",
            "bar_color": null,
            "description_width": ""
          }
        },
        "070bf0ceafa7469ead6828bf5bf28ad3": {
          "model_module": "@jupyter-widgets/base",
          "model_name": "LayoutModel",
          "model_module_version": "1.2.0",
          "state": {
            "_model_module": "@jupyter-widgets/base",
            "_model_module_version": "1.2.0",
            "_model_name": "LayoutModel",
            "_view_count": null,
            "_view_module": "@jupyter-widgets/base",
            "_view_module_version": "1.2.0",
            "_view_name": "LayoutView",
            "align_content": null,
            "align_items": null,
            "align_self": null,
            "border": null,
            "bottom": null,
            "display": null,
            "flex": null,
            "flex_flow": null,
            "grid_area": null,
            "grid_auto_columns": null,
            "grid_auto_flow": null,
            "grid_auto_rows": null,
            "grid_column": null,
            "grid_gap": null,
            "grid_row": null,
            "grid_template_areas": null,
            "grid_template_columns": null,
            "grid_template_rows": null,
            "height": null,
            "justify_content": null,
            "justify_items": null,
            "left": null,
            "margin": null,
            "max_height": null,
            "max_width": null,
            "min_height": null,
            "min_width": null,
            "object_fit": null,
            "object_position": null,
            "order": null,
            "overflow": null,
            "overflow_x": null,
            "overflow_y": null,
            "padding": null,
            "right": null,
            "top": null,
            "visibility": null,
            "width": null
          }
        },
        "6e98c2910d0f42dfba4afaeeecf3da5f": {
          "model_module": "@jupyter-widgets/controls",
          "model_name": "DescriptionStyleModel",
          "model_module_version": "1.5.0",
          "state": {
            "_model_module": "@jupyter-widgets/controls",
            "_model_module_version": "1.5.0",
            "_model_name": "DescriptionStyleModel",
            "_view_count": null,
            "_view_module": "@jupyter-widgets/base",
            "_view_module_version": "1.2.0",
            "_view_name": "StyleView",
            "description_width": ""
          }
        },
        "ae00cb992b3a43869d32111bec251071": {
          "model_module": "@jupyter-widgets/controls",
          "model_name": "HBoxModel",
          "model_module_version": "1.5.0",
          "state": {
            "_dom_classes": [],
            "_model_module": "@jupyter-widgets/controls",
            "_model_module_version": "1.5.0",
            "_model_name": "HBoxModel",
            "_view_count": null,
            "_view_module": "@jupyter-widgets/controls",
            "_view_module_version": "1.5.0",
            "_view_name": "HBoxView",
            "box_style": "",
            "children": [
              "IPY_MODEL_a43800839d0d421296a7b66c54a200e9",
              "IPY_MODEL_dfbc844a4dfc45aebc9ba37548981809",
              "IPY_MODEL_01392a8ca91a40b79164c1fbb573e24a"
            ],
            "layout": "IPY_MODEL_a2effff074ff4d279d462b9c1e927aa3"
          }
        },
        "a43800839d0d421296a7b66c54a200e9": {
          "model_module": "@jupyter-widgets/controls",
          "model_name": "HTMLModel",
          "model_module_version": "1.5.0",
          "state": {
            "_dom_classes": [],
            "_model_module": "@jupyter-widgets/controls",
            "_model_module_version": "1.5.0",
            "_model_name": "HTMLModel",
            "_view_count": null,
            "_view_module": "@jupyter-widgets/controls",
            "_view_module_version": "1.5.0",
            "_view_name": "HTMLView",
            "description": "",
            "description_tooltip": null,
            "layout": "IPY_MODEL_d074bd08d0e54c9092ac2984efe55a38",
            "placeholder": "​",
            "style": "IPY_MODEL_5049092884c34d13882c3ada2e58c9cf",
            "value": "tokenizer.json: 100%"
          }
        },
        "dfbc844a4dfc45aebc9ba37548981809": {
          "model_module": "@jupyter-widgets/controls",
          "model_name": "FloatProgressModel",
          "model_module_version": "1.5.0",
          "state": {
            "_dom_classes": [],
            "_model_module": "@jupyter-widgets/controls",
            "_model_module_version": "1.5.0",
            "_model_name": "FloatProgressModel",
            "_view_count": null,
            "_view_module": "@jupyter-widgets/controls",
            "_view_module_version": "1.5.0",
            "_view_name": "ProgressView",
            "bar_style": "success",
            "description": "",
            "description_tooltip": null,
            "layout": "IPY_MODEL_7d5ad01c61d74497b22d305909abbc0e",
            "max": 466062,
            "min": 0,
            "orientation": "horizontal",
            "style": "IPY_MODEL_81cbef419ea44dc490547404ef15bc47",
            "value": 466062
          }
        },
        "01392a8ca91a40b79164c1fbb573e24a": {
          "model_module": "@jupyter-widgets/controls",
          "model_name": "HTMLModel",
          "model_module_version": "1.5.0",
          "state": {
            "_dom_classes": [],
            "_model_module": "@jupyter-widgets/controls",
            "_model_module_version": "1.5.0",
            "_model_name": "HTMLModel",
            "_view_count": null,
            "_view_module": "@jupyter-widgets/controls",
            "_view_module_version": "1.5.0",
            "_view_name": "HTMLView",
            "description": "",
            "description_tooltip": null,
            "layout": "IPY_MODEL_da148b03f2ad42ffa292d735501a095a",
            "placeholder": "​",
            "style": "IPY_MODEL_938eddccebcb4633bba0bb109dada480",
            "value": " 466k/466k [00:00&lt;00:00, 6.97MB/s]"
          }
        },
        "a2effff074ff4d279d462b9c1e927aa3": {
          "model_module": "@jupyter-widgets/base",
          "model_name": "LayoutModel",
          "model_module_version": "1.2.0",
          "state": {
            "_model_module": "@jupyter-widgets/base",
            "_model_module_version": "1.2.0",
            "_model_name": "LayoutModel",
            "_view_count": null,
            "_view_module": "@jupyter-widgets/base",
            "_view_module_version": "1.2.0",
            "_view_name": "LayoutView",
            "align_content": null,
            "align_items": null,
            "align_self": null,
            "border": null,
            "bottom": null,
            "display": null,
            "flex": null,
            "flex_flow": null,
            "grid_area": null,
            "grid_auto_columns": null,
            "grid_auto_flow": null,
            "grid_auto_rows": null,
            "grid_column": null,
            "grid_gap": null,
            "grid_row": null,
            "grid_template_areas": null,
            "grid_template_columns": null,
            "grid_template_rows": null,
            "height": null,
            "justify_content": null,
            "justify_items": null,
            "left": null,
            "margin": null,
            "max_height": null,
            "max_width": null,
            "min_height": null,
            "min_width": null,
            "object_fit": null,
            "object_position": null,
            "order": null,
            "overflow": null,
            "overflow_x": null,
            "overflow_y": null,
            "padding": null,
            "right": null,
            "top": null,
            "visibility": null,
            "width": null
          }
        },
        "d074bd08d0e54c9092ac2984efe55a38": {
          "model_module": "@jupyter-widgets/base",
          "model_name": "LayoutModel",
          "model_module_version": "1.2.0",
          "state": {
            "_model_module": "@jupyter-widgets/base",
            "_model_module_version": "1.2.0",
            "_model_name": "LayoutModel",
            "_view_count": null,
            "_view_module": "@jupyter-widgets/base",
            "_view_module_version": "1.2.0",
            "_view_name": "LayoutView",
            "align_content": null,
            "align_items": null,
            "align_self": null,
            "border": null,
            "bottom": null,
            "display": null,
            "flex": null,
            "flex_flow": null,
            "grid_area": null,
            "grid_auto_columns": null,
            "grid_auto_flow": null,
            "grid_auto_rows": null,
            "grid_column": null,
            "grid_gap": null,
            "grid_row": null,
            "grid_template_areas": null,
            "grid_template_columns": null,
            "grid_template_rows": null,
            "height": null,
            "justify_content": null,
            "justify_items": null,
            "left": null,
            "margin": null,
            "max_height": null,
            "max_width": null,
            "min_height": null,
            "min_width": null,
            "object_fit": null,
            "object_position": null,
            "order": null,
            "overflow": null,
            "overflow_x": null,
            "overflow_y": null,
            "padding": null,
            "right": null,
            "top": null,
            "visibility": null,
            "width": null
          }
        },
        "5049092884c34d13882c3ada2e58c9cf": {
          "model_module": "@jupyter-widgets/controls",
          "model_name": "DescriptionStyleModel",
          "model_module_version": "1.5.0",
          "state": {
            "_model_module": "@jupyter-widgets/controls",
            "_model_module_version": "1.5.0",
            "_model_name": "DescriptionStyleModel",
            "_view_count": null,
            "_view_module": "@jupyter-widgets/base",
            "_view_module_version": "1.2.0",
            "_view_name": "StyleView",
            "description_width": ""
          }
        },
        "7d5ad01c61d74497b22d305909abbc0e": {
          "model_module": "@jupyter-widgets/base",
          "model_name": "LayoutModel",
          "model_module_version": "1.2.0",
          "state": {
            "_model_module": "@jupyter-widgets/base",
            "_model_module_version": "1.2.0",
            "_model_name": "LayoutModel",
            "_view_count": null,
            "_view_module": "@jupyter-widgets/base",
            "_view_module_version": "1.2.0",
            "_view_name": "LayoutView",
            "align_content": null,
            "align_items": null,
            "align_self": null,
            "border": null,
            "bottom": null,
            "display": null,
            "flex": null,
            "flex_flow": null,
            "grid_area": null,
            "grid_auto_columns": null,
            "grid_auto_flow": null,
            "grid_auto_rows": null,
            "grid_column": null,
            "grid_gap": null,
            "grid_row": null,
            "grid_template_areas": null,
            "grid_template_columns": null,
            "grid_template_rows": null,
            "height": null,
            "justify_content": null,
            "justify_items": null,
            "left": null,
            "margin": null,
            "max_height": null,
            "max_width": null,
            "min_height": null,
            "min_width": null,
            "object_fit": null,
            "object_position": null,
            "order": null,
            "overflow": null,
            "overflow_x": null,
            "overflow_y": null,
            "padding": null,
            "right": null,
            "top": null,
            "visibility": null,
            "width": null
          }
        },
        "81cbef419ea44dc490547404ef15bc47": {
          "model_module": "@jupyter-widgets/controls",
          "model_name": "ProgressStyleModel",
          "model_module_version": "1.5.0",
          "state": {
            "_model_module": "@jupyter-widgets/controls",
            "_model_module_version": "1.5.0",
            "_model_name": "ProgressStyleModel",
            "_view_count": null,
            "_view_module": "@jupyter-widgets/base",
            "_view_module_version": "1.2.0",
            "_view_name": "StyleView",
            "bar_color": null,
            "description_width": ""
          }
        },
        "da148b03f2ad42ffa292d735501a095a": {
          "model_module": "@jupyter-widgets/base",
          "model_name": "LayoutModel",
          "model_module_version": "1.2.0",
          "state": {
            "_model_module": "@jupyter-widgets/base",
            "_model_module_version": "1.2.0",
            "_model_name": "LayoutModel",
            "_view_count": null,
            "_view_module": "@jupyter-widgets/base",
            "_view_module_version": "1.2.0",
            "_view_name": "LayoutView",
            "align_content": null,
            "align_items": null,
            "align_self": null,
            "border": null,
            "bottom": null,
            "display": null,
            "flex": null,
            "flex_flow": null,
            "grid_area": null,
            "grid_auto_columns": null,
            "grid_auto_flow": null,
            "grid_auto_rows": null,
            "grid_column": null,
            "grid_gap": null,
            "grid_row": null,
            "grid_template_areas": null,
            "grid_template_columns": null,
            "grid_template_rows": null,
            "height": null,
            "justify_content": null,
            "justify_items": null,
            "left": null,
            "margin": null,
            "max_height": null,
            "max_width": null,
            "min_height": null,
            "min_width": null,
            "object_fit": null,
            "object_position": null,
            "order": null,
            "overflow": null,
            "overflow_x": null,
            "overflow_y": null,
            "padding": null,
            "right": null,
            "top": null,
            "visibility": null,
            "width": null
          }
        },
        "938eddccebcb4633bba0bb109dada480": {
          "model_module": "@jupyter-widgets/controls",
          "model_name": "DescriptionStyleModel",
          "model_module_version": "1.5.0",
          "state": {
            "_model_module": "@jupyter-widgets/controls",
            "_model_module_version": "1.5.0",
            "_model_name": "DescriptionStyleModel",
            "_view_count": null,
            "_view_module": "@jupyter-widgets/base",
            "_view_module_version": "1.2.0",
            "_view_name": "StyleView",
            "description_width": ""
          }
        },
        "23e2621b4af443b3aeff25abc68ce3e0": {
          "model_module": "@jupyter-widgets/controls",
          "model_name": "HBoxModel",
          "model_module_version": "1.5.0",
          "state": {
            "_dom_classes": [],
            "_model_module": "@jupyter-widgets/controls",
            "_model_module_version": "1.5.0",
            "_model_name": "HBoxModel",
            "_view_count": null,
            "_view_module": "@jupyter-widgets/controls",
            "_view_module_version": "1.5.0",
            "_view_name": "HBoxView",
            "box_style": "",
            "children": [
              "IPY_MODEL_d49a442393e648569d2b1572f4dd50d4",
              "IPY_MODEL_f38d0c0c6e9b40b5a3ee4a563c1f15a0",
              "IPY_MODEL_8aaac4003b8346099063649d3a4477b0"
            ],
            "layout": "IPY_MODEL_0763c6c1b21941daac4d5a54936762c1"
          }
        },
        "d49a442393e648569d2b1572f4dd50d4": {
          "model_module": "@jupyter-widgets/controls",
          "model_name": "HTMLModel",
          "model_module_version": "1.5.0",
          "state": {
            "_dom_classes": [],
            "_model_module": "@jupyter-widgets/controls",
            "_model_module_version": "1.5.0",
            "_model_name": "HTMLModel",
            "_view_count": null,
            "_view_module": "@jupyter-widgets/controls",
            "_view_module_version": "1.5.0",
            "_view_name": "HTMLView",
            "description": "",
            "description_tooltip": null,
            "layout": "IPY_MODEL_417d860fff02491c9bfb8874cab38da9",
            "placeholder": "​",
            "style": "IPY_MODEL_110d4d59a3c14a32ae0aec42a048dfd8",
            "value": "config.json: 100%"
          }
        },
        "f38d0c0c6e9b40b5a3ee4a563c1f15a0": {
          "model_module": "@jupyter-widgets/controls",
          "model_name": "FloatProgressModel",
          "model_module_version": "1.5.0",
          "state": {
            "_dom_classes": [],
            "_model_module": "@jupyter-widgets/controls",
            "_model_module_version": "1.5.0",
            "_model_name": "FloatProgressModel",
            "_view_count": null,
            "_view_module": "@jupyter-widgets/controls",
            "_view_module_version": "1.5.0",
            "_view_name": "ProgressView",
            "bar_style": "success",
            "description": "",
            "description_tooltip": null,
            "layout": "IPY_MODEL_e801ab815b0448d886c4bed75bc4e275",
            "max": 570,
            "min": 0,
            "orientation": "horizontal",
            "style": "IPY_MODEL_a0a6696d0c674244b597769a4c7f2aee",
            "value": 570
          }
        },
        "8aaac4003b8346099063649d3a4477b0": {
          "model_module": "@jupyter-widgets/controls",
          "model_name": "HTMLModel",
          "model_module_version": "1.5.0",
          "state": {
            "_dom_classes": [],
            "_model_module": "@jupyter-widgets/controls",
            "_model_module_version": "1.5.0",
            "_model_name": "HTMLModel",
            "_view_count": null,
            "_view_module": "@jupyter-widgets/controls",
            "_view_module_version": "1.5.0",
            "_view_name": "HTMLView",
            "description": "",
            "description_tooltip": null,
            "layout": "IPY_MODEL_d805b012b8ea4cfa8a6fda62f5c9eb56",
            "placeholder": "​",
            "style": "IPY_MODEL_209c34297db84778813ca5d7bda42652",
            "value": " 570/570 [00:00&lt;00:00, 29.2kB/s]"
          }
        },
        "0763c6c1b21941daac4d5a54936762c1": {
          "model_module": "@jupyter-widgets/base",
          "model_name": "LayoutModel",
          "model_module_version": "1.2.0",
          "state": {
            "_model_module": "@jupyter-widgets/base",
            "_model_module_version": "1.2.0",
            "_model_name": "LayoutModel",
            "_view_count": null,
            "_view_module": "@jupyter-widgets/base",
            "_view_module_version": "1.2.0",
            "_view_name": "LayoutView",
            "align_content": null,
            "align_items": null,
            "align_self": null,
            "border": null,
            "bottom": null,
            "display": null,
            "flex": null,
            "flex_flow": null,
            "grid_area": null,
            "grid_auto_columns": null,
            "grid_auto_flow": null,
            "grid_auto_rows": null,
            "grid_column": null,
            "grid_gap": null,
            "grid_row": null,
            "grid_template_areas": null,
            "grid_template_columns": null,
            "grid_template_rows": null,
            "height": null,
            "justify_content": null,
            "justify_items": null,
            "left": null,
            "margin": null,
            "max_height": null,
            "max_width": null,
            "min_height": null,
            "min_width": null,
            "object_fit": null,
            "object_position": null,
            "order": null,
            "overflow": null,
            "overflow_x": null,
            "overflow_y": null,
            "padding": null,
            "right": null,
            "top": null,
            "visibility": null,
            "width": null
          }
        },
        "417d860fff02491c9bfb8874cab38da9": {
          "model_module": "@jupyter-widgets/base",
          "model_name": "LayoutModel",
          "model_module_version": "1.2.0",
          "state": {
            "_model_module": "@jupyter-widgets/base",
            "_model_module_version": "1.2.0",
            "_model_name": "LayoutModel",
            "_view_count": null,
            "_view_module": "@jupyter-widgets/base",
            "_view_module_version": "1.2.0",
            "_view_name": "LayoutView",
            "align_content": null,
            "align_items": null,
            "align_self": null,
            "border": null,
            "bottom": null,
            "display": null,
            "flex": null,
            "flex_flow": null,
            "grid_area": null,
            "grid_auto_columns": null,
            "grid_auto_flow": null,
            "grid_auto_rows": null,
            "grid_column": null,
            "grid_gap": null,
            "grid_row": null,
            "grid_template_areas": null,
            "grid_template_columns": null,
            "grid_template_rows": null,
            "height": null,
            "justify_content": null,
            "justify_items": null,
            "left": null,
            "margin": null,
            "max_height": null,
            "max_width": null,
            "min_height": null,
            "min_width": null,
            "object_fit": null,
            "object_position": null,
            "order": null,
            "overflow": null,
            "overflow_x": null,
            "overflow_y": null,
            "padding": null,
            "right": null,
            "top": null,
            "visibility": null,
            "width": null
          }
        },
        "110d4d59a3c14a32ae0aec42a048dfd8": {
          "model_module": "@jupyter-widgets/controls",
          "model_name": "DescriptionStyleModel",
          "model_module_version": "1.5.0",
          "state": {
            "_model_module": "@jupyter-widgets/controls",
            "_model_module_version": "1.5.0",
            "_model_name": "DescriptionStyleModel",
            "_view_count": null,
            "_view_module": "@jupyter-widgets/base",
            "_view_module_version": "1.2.0",
            "_view_name": "StyleView",
            "description_width": ""
          }
        },
        "e801ab815b0448d886c4bed75bc4e275": {
          "model_module": "@jupyter-widgets/base",
          "model_name": "LayoutModel",
          "model_module_version": "1.2.0",
          "state": {
            "_model_module": "@jupyter-widgets/base",
            "_model_module_version": "1.2.0",
            "_model_name": "LayoutModel",
            "_view_count": null,
            "_view_module": "@jupyter-widgets/base",
            "_view_module_version": "1.2.0",
            "_view_name": "LayoutView",
            "align_content": null,
            "align_items": null,
            "align_self": null,
            "border": null,
            "bottom": null,
            "display": null,
            "flex": null,
            "flex_flow": null,
            "grid_area": null,
            "grid_auto_columns": null,
            "grid_auto_flow": null,
            "grid_auto_rows": null,
            "grid_column": null,
            "grid_gap": null,
            "grid_row": null,
            "grid_template_areas": null,
            "grid_template_columns": null,
            "grid_template_rows": null,
            "height": null,
            "justify_content": null,
            "justify_items": null,
            "left": null,
            "margin": null,
            "max_height": null,
            "max_width": null,
            "min_height": null,
            "min_width": null,
            "object_fit": null,
            "object_position": null,
            "order": null,
            "overflow": null,
            "overflow_x": null,
            "overflow_y": null,
            "padding": null,
            "right": null,
            "top": null,
            "visibility": null,
            "width": null
          }
        },
        "a0a6696d0c674244b597769a4c7f2aee": {
          "model_module": "@jupyter-widgets/controls",
          "model_name": "ProgressStyleModel",
          "model_module_version": "1.5.0",
          "state": {
            "_model_module": "@jupyter-widgets/controls",
            "_model_module_version": "1.5.0",
            "_model_name": "ProgressStyleModel",
            "_view_count": null,
            "_view_module": "@jupyter-widgets/base",
            "_view_module_version": "1.2.0",
            "_view_name": "StyleView",
            "bar_color": null,
            "description_width": ""
          }
        },
        "d805b012b8ea4cfa8a6fda62f5c9eb56": {
          "model_module": "@jupyter-widgets/base",
          "model_name": "LayoutModel",
          "model_module_version": "1.2.0",
          "state": {
            "_model_module": "@jupyter-widgets/base",
            "_model_module_version": "1.2.0",
            "_model_name": "LayoutModel",
            "_view_count": null,
            "_view_module": "@jupyter-widgets/base",
            "_view_module_version": "1.2.0",
            "_view_name": "LayoutView",
            "align_content": null,
            "align_items": null,
            "align_self": null,
            "border": null,
            "bottom": null,
            "display": null,
            "flex": null,
            "flex_flow": null,
            "grid_area": null,
            "grid_auto_columns": null,
            "grid_auto_flow": null,
            "grid_auto_rows": null,
            "grid_column": null,
            "grid_gap": null,
            "grid_row": null,
            "grid_template_areas": null,
            "grid_template_columns": null,
            "grid_template_rows": null,
            "height": null,
            "justify_content": null,
            "justify_items": null,
            "left": null,
            "margin": null,
            "max_height": null,
            "max_width": null,
            "min_height": null,
            "min_width": null,
            "object_fit": null,
            "object_position": null,
            "order": null,
            "overflow": null,
            "overflow_x": null,
            "overflow_y": null,
            "padding": null,
            "right": null,
            "top": null,
            "visibility": null,
            "width": null
          }
        },
        "209c34297db84778813ca5d7bda42652": {
          "model_module": "@jupyter-widgets/controls",
          "model_name": "DescriptionStyleModel",
          "model_module_version": "1.5.0",
          "state": {
            "_model_module": "@jupyter-widgets/controls",
            "_model_module_version": "1.5.0",
            "_model_name": "DescriptionStyleModel",
            "_view_count": null,
            "_view_module": "@jupyter-widgets/base",
            "_view_module_version": "1.2.0",
            "_view_name": "StyleView",
            "description_width": ""
          }
        },
        "018955874ff1405da7fa9eb87ef67967": {
          "model_module": "@jupyter-widgets/controls",
          "model_name": "HBoxModel",
          "model_module_version": "1.5.0",
          "state": {
            "_dom_classes": [],
            "_model_module": "@jupyter-widgets/controls",
            "_model_module_version": "1.5.0",
            "_model_name": "HBoxModel",
            "_view_count": null,
            "_view_module": "@jupyter-widgets/controls",
            "_view_module_version": "1.5.0",
            "_view_name": "HBoxView",
            "box_style": "",
            "children": [
              "IPY_MODEL_27d0831bbc594cc08889695a84566bd8",
              "IPY_MODEL_b92c9375a6fd45ce84c286da5fd7e610",
              "IPY_MODEL_fa041cc85efe4827b43947a3b80e60ef"
            ],
            "layout": "IPY_MODEL_c7ed5e3a40d144fdbc4adf43b7486af5"
          }
        },
        "27d0831bbc594cc08889695a84566bd8": {
          "model_module": "@jupyter-widgets/controls",
          "model_name": "HTMLModel",
          "model_module_version": "1.5.0",
          "state": {
            "_dom_classes": [],
            "_model_module": "@jupyter-widgets/controls",
            "_model_module_version": "1.5.0",
            "_model_name": "HTMLModel",
            "_view_count": null,
            "_view_module": "@jupyter-widgets/controls",
            "_view_module_version": "1.5.0",
            "_view_name": "HTMLView",
            "description": "",
            "description_tooltip": null,
            "layout": "IPY_MODEL_49450744614e451c8b1ea90a80e83915",
            "placeholder": "​",
            "style": "IPY_MODEL_eab234f3c7514cbfa60a8989a72382b9",
            "value": "model.safetensors: 100%"
          }
        },
        "b92c9375a6fd45ce84c286da5fd7e610": {
          "model_module": "@jupyter-widgets/controls",
          "model_name": "FloatProgressModel",
          "model_module_version": "1.5.0",
          "state": {
            "_dom_classes": [],
            "_model_module": "@jupyter-widgets/controls",
            "_model_module_version": "1.5.0",
            "_model_name": "FloatProgressModel",
            "_view_count": null,
            "_view_module": "@jupyter-widgets/controls",
            "_view_module_version": "1.5.0",
            "_view_name": "ProgressView",
            "bar_style": "success",
            "description": "",
            "description_tooltip": null,
            "layout": "IPY_MODEL_8765392ba6f34d929d6adc883087ebf5",
            "max": 440449768,
            "min": 0,
            "orientation": "horizontal",
            "style": "IPY_MODEL_8bb1fc7e23fe49f794ccb341338e3d67",
            "value": 440449768
          }
        },
        "fa041cc85efe4827b43947a3b80e60ef": {
          "model_module": "@jupyter-widgets/controls",
          "model_name": "HTMLModel",
          "model_module_version": "1.5.0",
          "state": {
            "_dom_classes": [],
            "_model_module": "@jupyter-widgets/controls",
            "_model_module_version": "1.5.0",
            "_model_name": "HTMLModel",
            "_view_count": null,
            "_view_module": "@jupyter-widgets/controls",
            "_view_module_version": "1.5.0",
            "_view_name": "HTMLView",
            "description": "",
            "description_tooltip": null,
            "layout": "IPY_MODEL_8af7273e9bd3490ab687213b9ae81526",
            "placeholder": "​",
            "style": "IPY_MODEL_8c4d56edf5fd463383ba120b6e038925",
            "value": " 440M/440M [00:02&lt;00:00, 200MB/s]"
          }
        },
        "c7ed5e3a40d144fdbc4adf43b7486af5": {
          "model_module": "@jupyter-widgets/base",
          "model_name": "LayoutModel",
          "model_module_version": "1.2.0",
          "state": {
            "_model_module": "@jupyter-widgets/base",
            "_model_module_version": "1.2.0",
            "_model_name": "LayoutModel",
            "_view_count": null,
            "_view_module": "@jupyter-widgets/base",
            "_view_module_version": "1.2.0",
            "_view_name": "LayoutView",
            "align_content": null,
            "align_items": null,
            "align_self": null,
            "border": null,
            "bottom": null,
            "display": null,
            "flex": null,
            "flex_flow": null,
            "grid_area": null,
            "grid_auto_columns": null,
            "grid_auto_flow": null,
            "grid_auto_rows": null,
            "grid_column": null,
            "grid_gap": null,
            "grid_row": null,
            "grid_template_areas": null,
            "grid_template_columns": null,
            "grid_template_rows": null,
            "height": null,
            "justify_content": null,
            "justify_items": null,
            "left": null,
            "margin": null,
            "max_height": null,
            "max_width": null,
            "min_height": null,
            "min_width": null,
            "object_fit": null,
            "object_position": null,
            "order": null,
            "overflow": null,
            "overflow_x": null,
            "overflow_y": null,
            "padding": null,
            "right": null,
            "top": null,
            "visibility": null,
            "width": null
          }
        },
        "49450744614e451c8b1ea90a80e83915": {
          "model_module": "@jupyter-widgets/base",
          "model_name": "LayoutModel",
          "model_module_version": "1.2.0",
          "state": {
            "_model_module": "@jupyter-widgets/base",
            "_model_module_version": "1.2.0",
            "_model_name": "LayoutModel",
            "_view_count": null,
            "_view_module": "@jupyter-widgets/base",
            "_view_module_version": "1.2.0",
            "_view_name": "LayoutView",
            "align_content": null,
            "align_items": null,
            "align_self": null,
            "border": null,
            "bottom": null,
            "display": null,
            "flex": null,
            "flex_flow": null,
            "grid_area": null,
            "grid_auto_columns": null,
            "grid_auto_flow": null,
            "grid_auto_rows": null,
            "grid_column": null,
            "grid_gap": null,
            "grid_row": null,
            "grid_template_areas": null,
            "grid_template_columns": null,
            "grid_template_rows": null,
            "height": null,
            "justify_content": null,
            "justify_items": null,
            "left": null,
            "margin": null,
            "max_height": null,
            "max_width": null,
            "min_height": null,
            "min_width": null,
            "object_fit": null,
            "object_position": null,
            "order": null,
            "overflow": null,
            "overflow_x": null,
            "overflow_y": null,
            "padding": null,
            "right": null,
            "top": null,
            "visibility": null,
            "width": null
          }
        },
        "eab234f3c7514cbfa60a8989a72382b9": {
          "model_module": "@jupyter-widgets/controls",
          "model_name": "DescriptionStyleModel",
          "model_module_version": "1.5.0",
          "state": {
            "_model_module": "@jupyter-widgets/controls",
            "_model_module_version": "1.5.0",
            "_model_name": "DescriptionStyleModel",
            "_view_count": null,
            "_view_module": "@jupyter-widgets/base",
            "_view_module_version": "1.2.0",
            "_view_name": "StyleView",
            "description_width": ""
          }
        },
        "8765392ba6f34d929d6adc883087ebf5": {
          "model_module": "@jupyter-widgets/base",
          "model_name": "LayoutModel",
          "model_module_version": "1.2.0",
          "state": {
            "_model_module": "@jupyter-widgets/base",
            "_model_module_version": "1.2.0",
            "_model_name": "LayoutModel",
            "_view_count": null,
            "_view_module": "@jupyter-widgets/base",
            "_view_module_version": "1.2.0",
            "_view_name": "LayoutView",
            "align_content": null,
            "align_items": null,
            "align_self": null,
            "border": null,
            "bottom": null,
            "display": null,
            "flex": null,
            "flex_flow": null,
            "grid_area": null,
            "grid_auto_columns": null,
            "grid_auto_flow": null,
            "grid_auto_rows": null,
            "grid_column": null,
            "grid_gap": null,
            "grid_row": null,
            "grid_template_areas": null,
            "grid_template_columns": null,
            "grid_template_rows": null,
            "height": null,
            "justify_content": null,
            "justify_items": null,
            "left": null,
            "margin": null,
            "max_height": null,
            "max_width": null,
            "min_height": null,
            "min_width": null,
            "object_fit": null,
            "object_position": null,
            "order": null,
            "overflow": null,
            "overflow_x": null,
            "overflow_y": null,
            "padding": null,
            "right": null,
            "top": null,
            "visibility": null,
            "width": null
          }
        },
        "8bb1fc7e23fe49f794ccb341338e3d67": {
          "model_module": "@jupyter-widgets/controls",
          "model_name": "ProgressStyleModel",
          "model_module_version": "1.5.0",
          "state": {
            "_model_module": "@jupyter-widgets/controls",
            "_model_module_version": "1.5.0",
            "_model_name": "ProgressStyleModel",
            "_view_count": null,
            "_view_module": "@jupyter-widgets/base",
            "_view_module_version": "1.2.0",
            "_view_name": "StyleView",
            "bar_color": null,
            "description_width": ""
          }
        },
        "8af7273e9bd3490ab687213b9ae81526": {
          "model_module": "@jupyter-widgets/base",
          "model_name": "LayoutModel",
          "model_module_version": "1.2.0",
          "state": {
            "_model_module": "@jupyter-widgets/base",
            "_model_module_version": "1.2.0",
            "_model_name": "LayoutModel",
            "_view_count": null,
            "_view_module": "@jupyter-widgets/base",
            "_view_module_version": "1.2.0",
            "_view_name": "LayoutView",
            "align_content": null,
            "align_items": null,
            "align_self": null,
            "border": null,
            "bottom": null,
            "display": null,
            "flex": null,
            "flex_flow": null,
            "grid_area": null,
            "grid_auto_columns": null,
            "grid_auto_flow": null,
            "grid_auto_rows": null,
            "grid_column": null,
            "grid_gap": null,
            "grid_row": null,
            "grid_template_areas": null,
            "grid_template_columns": null,
            "grid_template_rows": null,
            "height": null,
            "justify_content": null,
            "justify_items": null,
            "left": null,
            "margin": null,
            "max_height": null,
            "max_width": null,
            "min_height": null,
            "min_width": null,
            "object_fit": null,
            "object_position": null,
            "order": null,
            "overflow": null,
            "overflow_x": null,
            "overflow_y": null,
            "padding": null,
            "right": null,
            "top": null,
            "visibility": null,
            "width": null
          }
        },
        "8c4d56edf5fd463383ba120b6e038925": {
          "model_module": "@jupyter-widgets/controls",
          "model_name": "DescriptionStyleModel",
          "model_module_version": "1.5.0",
          "state": {
            "_model_module": "@jupyter-widgets/controls",
            "_model_module_version": "1.5.0",
            "_model_name": "DescriptionStyleModel",
            "_view_count": null,
            "_view_module": "@jupyter-widgets/base",
            "_view_module_version": "1.2.0",
            "_view_name": "StyleView",
            "description_width": ""
          }
        }
      }
    }
  },
  "nbformat": 4,
  "nbformat_minor": 0
}